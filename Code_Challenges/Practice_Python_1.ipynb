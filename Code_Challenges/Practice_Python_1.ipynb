{
 "nbformat": 4,
 "nbformat_minor": 2,
 "metadata": {
  "language_info": {
   "name": "python",
   "codemirror_mode": {
    "name": "ipython",
    "version": 3
   }
  },
  "orig_nbformat": 2,
  "file_extension": ".py",
  "mimetype": "text/x-python",
  "name": "python",
  "npconvert_exporter": "python",
  "pygments_lexer": "ipython3",
  "version": 3
 },
 "cells": [
  {
   "cell_type": "code",
   "execution_count": null,
   "metadata": {},
   "outputs": [
    {
     "output_type": "error",
     "ename": "Error",
     "evalue": "Jupyter cannot be started. Error attempting to locate jupyter: Data Science libraries jupyter and notebook are not installed in interpreter Python 3.6.6 64-bit.",
     "traceback": [
      "Error: Jupyter cannot be started. Error attempting to locate jupyter: Data Science libraries jupyter and notebook are not installed in interpreter Python 3.6.6 64-bit.",
      "at C.startServer (c:\\Users\\CS\\.vscode\\extensions\\ms-python.python-2020.3.69010\\out\\client\\extension.js:1:776232)",
      "at async C.ensureServerAndNotebookImpl (c:\\Users\\CS\\.vscode\\extensions\\ms-python.python-2020.3.69010\\out\\client\\extension.js:1:775687)",
      "at async C.ensureServerAndNotebook (c:\\Users\\CS\\.vscode\\extensions\\ms-python.python-2020.3.69010\\out\\client\\extension.js:1:775377)",
      "at async C.clearResult (c:\\Users\\CS\\.vscode\\extensions\\ms-python.python-2020.3.69010\\out\\client\\extension.js:1:771418)",
      "at async C.reexecuteCell (c:\\Users\\CS\\.vscode\\extensions\\ms-python.python-2020.3.69010\\out\\client\\extension.js:1:760783)",
      "at async C.reexecuteCells (c:\\Users\\CS\\.vscode\\extensions\\ms-python.python-2020.3.69010\\out\\client\\extension.js:1:757797)"
     ]
    }
   ],
   "source": [
    "import numpy as np\n",
    "import matplotlib.pyplot as plt\n",
    "\n",
    "x = np.linspace(0, 2 * np.pi, 100)\n",
    "y = np.sin(x)\n",
    "plt.plot(x, y)"
   ]
  },
  {
   "cell_type": "code",
   "execution_count": null,
   "metadata": {},
   "outputs": [],
   "source": []
  }
 ]
}