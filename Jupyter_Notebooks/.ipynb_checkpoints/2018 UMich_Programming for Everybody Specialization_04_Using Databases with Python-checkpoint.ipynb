{
 "cells": [
  {
   "cell_type": "markdown",
   "metadata": {},
   "source": [
    "This is a Jupyter notebook for learning the Coursera \"Programming for Everybody (Getting Started with Python)\" UMich course. This is Course 3 in the Programming for Everybody Specialization.\n",
    "\n",
    "Course website: https://www.coursera.org/learn/python"
   ]
  },
  {
   "cell_type": "markdown",
   "metadata": {},
   "source": [
    "Start Date: 9/20/2018\n",
    "End Date: 10/XX/2018"
   ]
  },
  {
   "cell_type": "markdown",
   "metadata": {},
   "source": [
    "The professor of this course, Chuck Saverance, has a website for his book: \"Python for Everybody\".\n",
    "\n",
    "Link available here: https://www.py4e.com/\n",
    "\n",
    "You can download all of the sample Python code from the book as well as licensed course materials from http://www.py4e.com/materials.\n",
    "\n",
    "This course is in Python 3 and the textbook for this class is in Python 3. Prior to July 2017, this course was taught in Python 2 with the textbook \"Python for Informatics: Exploring Information\". This earlier Python 2 book has translations into Spanish, Korean, and Chinese. The Python 2 book and its translations are still available at the www.pythonlearn.com web site.\n",
    "\n",
    "All of the book materials are available under a Creative Commons Attribution-NonCommercial 3.0 Unported License. The slides, audio, assignments, auto grader and all course materials other than the book are available from http://www.py4e.com/materials under the more flexible Creative Commons Attribution 3.0 Unported License. If you are curious as to why the \"NC\" variant of Creative Commons was used, see Appendix D of the textbook or search through my blog posts for the string \"copyright\"."
   ]
  },
  {
   "cell_type": "markdown",
   "metadata": {},
   "source": [
    "## Chapter 14: Object Oriented Definitions and Terminology"
   ]
  },
  {
   "cell_type": "markdown",
   "metadata": {},
   "source": [
    "You won't get the entire picture until this is all looked at in the context of a real problem.  You will have to come back to it a couple of times.  Until you really need this concept, you won't really know it."
   ]
  },
  {
   "cell_type": "markdown",
   "metadata": {},
   "source": [
    "The dir() function shows all the methods and variables for that object.  Useful to \"check out\" a function."
   ]
  },
  {
   "cell_type": "code",
   "execution_count": null,
   "metadata": {
    "collapsed": true
   },
   "outputs": [],
   "source": [
    "x = 'abc'\n",
    "print(type(x))\n",
    "dir(x)"
   ]
  },
  {
   "cell_type": "markdown",
   "metadata": {},
   "source": [
    "An example user-defined class."
   ]
  },
  {
   "cell_type": "code",
   "execution_count": null,
   "metadata": {
    "collapsed": true
   },
   "outputs": [],
   "source": [
    "#An example user-defined class\n",
    "class PartyAnimal:\n",
    "    x = 0\n",
    "    \n",
    "    def party(self):\n",
    "        self.x = self.x + 1\n",
    "        print(\"So far\", self.x)\n",
    "\n",
    "an = PartyAnimal()\n",
    "\n",
    "an.party()\n",
    "an.party()\n",
    "an.party()\n",
    "\n",
    "print(\"Type\", type(an))\n",
    "print(\"Dir\", dir(an))"
   ]
  },
  {
   "cell_type": "markdown",
   "metadata": {},
   "source": [
    "The object lifecycle.\n",
    "\n",
    "Objects are created, used, and discarded. \n",
    "\n",
    "We have special blocks of code (methods) that get called \n",
    "    -At the moment of creation (construtor)\n",
    "    -At the moment of destruction (destructor)\n",
    "\n",
    "Constructors are used a lot.  Destructors are seldom used.\n",
    "\n"
   ]
  },
  {
   "cell_type": "code",
   "execution_count": null,
   "metadata": {
    "collapsed": true
   },
   "outputs": [],
   "source": [
    "#An example user-defined class, with constructor and destructor\n",
    "class PartyAnimal:\n",
    "    x = 0\n",
    "    \n",
    "    def __init__(self):\n",
    "        print('I am constructed')\n",
    "    \n",
    "    def party(self):\n",
    "        self.x = self.x + 1\n",
    "        print(\"So far\", self.x)\n",
    "\n",
    "    def __del__(self):\n",
    "        print('I am destructed', self.x)\n",
    "        \n",
    "an = PartyAnimal()\n",
    "an.party()\n",
    "an.party()\n",
    "an.party()\n",
    "\n",
    "print(\"Type\", type(an))\n",
    "print(\"Dir\", dir(an))"
   ]
  },
  {
   "cell_type": "markdown",
   "metadata": {},
   "source": [
    "We can create lots of objects - the class is the template for the object."
   ]
  },
  {
   "cell_type": "code",
   "execution_count": null,
   "metadata": {
    "collapsed": true
   },
   "outputs": [],
   "source": [
    "#An example user-defined class, with constructor and destructor\n",
    "class PartyAnimal:\n",
    "    x = 0\n",
    "    name = \"\"\n",
    "    \n",
    "    def __init__(self, z):\n",
    "        self.name = z\n",
    "        print(self.name, \"constructed\")\n",
    "    \n",
    "    def party(self):\n",
    "        self.x = self.x + 1\n",
    "        print(self.name, \"party count\", self.x)\n",
    "    \n",
    "s = PartyAnimal(\"Sally\")\n",
    "s.party()\n",
    "\n",
    "j = PartyAnimal(\"Jim\")\n",
    "j.party()\n",
    "s.party()"
   ]
  },
  {
   "cell_type": "code",
   "execution_count": null,
   "metadata": {
    "collapsed": true
   },
   "outputs": [],
   "source": [
    "#Now introduce a FootballFan class, which extends PartyAnimal.\n",
    "class PartyAnimal:\n",
    "    x = 0\n",
    "    name = \"\"\n",
    "    \n",
    "    def __init__(self, z):\n",
    "        self.name = z\n",
    "        print(self.name, \"constructed\")\n",
    "    \n",
    "    def party(self):\n",
    "        self.x = self.x + 1\n",
    "        print(self.name, \"party count\", self.x)\n",
    "    \n",
    "class FootballFan(PartyAnimal):\n",
    "    points = 0\n",
    "    def touchdown(self):\n",
    "        self.points = self.points + 7\n",
    "        self.party()\n",
    "        print(self.name, \"points\", self.points)\n",
    "\n",
    "        \n",
    "#A FootballFan object has every method a PartyAnimal object has, and then some.\n",
    "b = FootballFan(\"Bob\")\n",
    "b.party()\n",
    "b.party()\n",
    "b.touchdown()"
   ]
  },
  {
   "cell_type": "markdown",
   "metadata": {},
   "source": [
    "## Chapter 15: Relational Databases"
   ]
  },
  {
   "cell_type": "markdown",
   "metadata": {},
   "source": [
    "### Basic structured query language: An introduction"
   ]
  },
  {
   "cell_type": "markdown",
   "metadata": {},
   "source": [
    "Definitions:\n",
    "    -Database: Contains many tables\n",
    "    -Relation (or table): Contains tuples and attributes\n",
    "    -Tuple (or row): A set of fields that generally represents an \"object\" like a person or a music track\n",
    "    -Attribute (also column or field): One of possibly many elements of data corresponding to the object represented by the row."
   ]
  },
  {
   "cell_type": "markdown",
   "metadata": {},
   "source": [
    "A database model or database schema is the structure or format of a database, described in a formal language supported by the database management system.  \n",
    "\n",
    "It is the application of a data model when used in conjunction with a database management system."
   ]
  },
  {
   "cell_type": "markdown",
   "metadata": {},
   "source": [
    "### Basic structured query language: Single Table CRUD"
   ]
  },
  {
   "cell_type": "markdown",
   "metadata": {},
   "source": [
    "Using DB Browser for SQLite, create a new database.  You will create a new database file, but you won't write code to touch that file directly.  We are always using the SQLite library"
   ]
  },
  {
   "cell_type": "markdown",
   "metadata": {},
   "source": [
    "Sample commands"
   ]
  },
  {
   "cell_type": "markdown",
   "metadata": {},
   "source": [
    "INSERT INTO Users(name, emal) VALUES ('Kristin', 'klt@umich.edu')\n",
    "\n",
    "DELETE FROM Users WHERE email='ted@umich.edu'\n",
    "\n",
    "UPDATE Users SET name='Charles' WHERE emal='csev@umich.edu'\n",
    "\n",
    "SELECT * FROM Users\n",
    "\n",
    "SELECT * FROM Users WHERE emal='csev@umich.edu'\n",
    "\n",
    "SELECT * FROM Users ORDER BY emal"
   ]
  },
  {
   "cell_type": "markdown",
   "metadata": {},
   "source": [
    "P4YE: Worked example -- Twitter spider"
   ]
  },
  {
   "cell_type": "markdown",
   "metadata": {},
   "source": [
    "This code pulls down data from Twitter by hitting its API. (NOTE: CODE DOES NOT WORK -- Twitter link may be wrong.)"
   ]
  },
  {
   "cell_type": "code",
   "execution_count": null,
   "metadata": {
    "collapsed": true
   },
   "outputs": [],
   "source": [
    "#NOTE: CODE DOES NOT WORK -- Twitter link may be wrong.\n",
    "from urllib.request import urlopen\n",
    "import urllib.error\n",
    "import twurl\n",
    "import json\n",
    "import sqlite3\n",
    "import ssl\n",
    "\n",
    "TWITTER_URL = 'https://api.twitter/com/1.1/friends/list.json'\n",
    "\n",
    "conn = sqlite3.connect('spider.sqlite')\n",
    "cur = conn.cursor()"
   ]
  },
  {
   "cell_type": "markdown",
   "metadata": {},
   "source": [
    "More commands to create a table.  (Specifies options.)\n",
    "\n",
    "CREATE TABLE Genre(\n",
    "    id    INTEGER NOT NULL PRIMARY KEY AUTOINCREMENT UNIQUE,\n",
    "    name  TEXT\n",
    ")"
   ]
  },
  {
   "cell_type": "markdown",
   "metadata": {},
   "source": [
    "More commands to insert data into tables.  \n",
    "\n",
    "NOTE: Run these one by one in SQL Lite Execute SQL function, otherwise will error out.  If wish to run multiple commands, separate them with \";\".\n",
    "\n",
    "INSERT into Artist (name) values ('Led Zeppelin');\n",
    "INSERT into Artist (name) values ('AC / DC')"
   ]
  },
  {
   "cell_type": "markdown",
   "metadata": {},
   "source": [
    "When specifying new data for two columns at once, separate the columns by \",\", and keep entries in order.\n",
    "\n",
    "insert into Album (title, artist_id) values ('Who Made Who', 2);\n",
    "insert into Album (title, artist_id) values ('IV', 1);\n"
   ]
  },
  {
   "cell_type": "markdown",
   "metadata": {},
   "source": [
    "Insert data about tracks:\n",
    "\n",
    "insert into Track (title, rating, len, count, album_id, genre_id) values ('Black Dog', 5, 297, 0, 2, 1);\n",
    "insert into Track (title, rating, len, count, album_id, genre_id) values ('Stairway', 5, 482, 0, 2, 1);\n",
    "insert into Track (title, rating, len, count, album_id, genre_id) values ('About to Rock', 5, 313, 0, 1, 2);\n",
    "insert into Track (title, rating, len, count, album_id, genre_id) values ('Who Made Who', 5, 207, 0, 1, 2);"
   ]
  },
  {
   "cell_type": "markdown",
   "metadata": {},
   "source": [
    "Reconstructing data with JOIN\n",
    "\n",
    "The JOIN operation links across several tables as part of a select operation.  \n",
    "\n",
    "You must tell the JOIN how to use the keys that make the connection between the tables using an ON clause.  Example:\n",
    "\n",
    "\n",
    "#From Artist and Album tables, return a table of artists and their albums\n",
    "select Album.title, Artist.name from Album JOIN Artist on Album.artist_id = Artist.id\n",
    "\n",
    "#From Tracks and Genre tables, construct a table of tracks and their genres.\n",
    "select Track.title, Genre.name from Track JOIN Genre on Track.genre_id = Genre.id\n",
    "\n",
    "#NOTE: IF you don't specify ON, returns a table of ALL possible combinations of the tables\n",
    "select Track.title, Genre.name from Track JOIN Genre "
   ]
  },
  {
   "cell_type": "markdown",
   "metadata": {},
   "source": [
    "Deconstructing this further -- how to see a table of 1) Song title, 2) Artist, 3) Album title, 4) Genre name?\n",
    "\n",
    "select Track.title, Artist.name, Album.title, Genre.name from Track JOIN Artist JOIN Album JOIN Genre on Track.genre_id = Genre.id and Track.album_id = Album.id and Album.artist_id = Artist.id"
   ]
  },
  {
   "cell_type": "markdown",
   "metadata": {},
   "source": [
    "Worked example: tracks.py.\n",
    "\n",
    "Involves Python, SQL, XML.  \n",
    "\n",
    "INSERT OR IGNORE: Better than INSERT because when you're inserting data into a table twice, prevents the table from blowing up."
   ]
  },
  {
   "cell_type": "code",
   "execution_count": 6,
   "metadata": {},
   "outputs": [
    {
     "name": "stdout",
     "output_type": "stream",
     "text": [
      "Enter file name (Type \"Library.xml\"): Library.xml\n",
      "Dict count: 404\n",
      "Another One Bites The Dust Queen Greatest Hits 55 100 217103\n",
      "Asche Zu Asche Rammstein Herzeleid 79 100 231810\n",
      "Beauty School Dropout Various Grease 48 100 239960\n",
      "Black Dog Led Zeppelin IV 109 100 296620\n",
      "Bring The Boys Back Home Pink Floyd The Wall [Disc 2] 33 100 87118\n",
      "Circles Bryan Lee Blues Is 54 60 355369\n",
      "Comfortably Numb Pink Floyd The Wall [Disc 2] 36 100 384130\n",
      "Crazy Little Thing Called Love Queen Greatest Hits 38 100 163631\n",
      "Electric Funeral Black Sabbath Paranoid 44 100 293015\n",
      "Fat Bottomed Girls Queen Greatest Hits 38 100 257515\n",
      "For Those About To Rock (We Salute You) AC/DC Who Made Who 84 100 353750\n",
      "Four Sticks Led Zeppelin IV 84 100 284421\n",
      "Furious Angels Rob Dougan The Matrix Reloaded 54 100 330004\n",
      "Gelle Bryan Lee Blues Is 45 60 199836\n",
      "Going To California Led Zeppelin IV 100 100 215666\n",
      "Grease Various Grease 42 100 205792\n",
      "Hand of Doom Black Sabbath Paranoid 36 100 429609\n",
      "Hells Bells AC/DC Who Made Who 82 100 312946\n",
      "Hey You Pink Floyd The Wall [Disc 2] 23 100 282305\n",
      "I Worry Bryan Lee Blues Is 33 100 341315\n",
      "Iron Man Black Sabbath Paranoid 39 100 358530\n",
      "Is There Anybody Out There? Pink Floyd The Wall [Disc 2] 26 100 160679\n",
      "It was a Very Good Year Frank Sinatra Greatest Hits 39 100 268852\n",
      "Its Your Move Bryan Lee Blues Is 40 100 245002\n",
      "Jack the Stripper/Fairies Wear Boots Black Sabbath Paranoid 35 100 373995\n",
      "Killer Queen Queen Greatest Hits 34 100 181368\n",
      "Laichzeit Rammstein Herzeleid 41 100 262844\n",
      "Let me Down Easy Bryan Lee Blues Is 43 100 331441\n",
      "Misty Mountain Hop Led Zeppelin IV 88 100 278831\n",
      "No Low Down Bryan Lee Blues Is 39 100 245760\n",
      "Now You Are Gone America Greatest Hits 52 100 187559\n",
      "Outside The Wall Pink Floyd The Wall [Disc 2] 16 100 104437\n",
      "Paranoid Black Sabbath Paranoid 36 100 172930\n",
      "Planet Caravan Black Sabbath Paranoid 38 100 274938\n",
      "Pretty Jeanie Bryan Lee Blues Is 34 100 225175\n",
      "Rammstein Rammstein Herzeleid 45 100 265090\n",
      "Rat Salad Black Sabbath Paranoid 46 100 150230\n",
      "Rock & Roll Led Zeppelin IV 109 100 220891\n",
      "Rode Across the Desert America Greatest Hits 60 100 249887\n",
      "Sandy Various Grease 36 100 155742\n",
      "Shake Your Foundations AC/DC Who Made Who 85 100 233769\n",
      "Sister Golden Hair America Greatest Hits 60 100 202057\n",
      "Somebody To Love Queen Greatest Hits 17 100 297586\n",
      "Stairway To Heaven Led Zeppelin IV 93 100 481567\n",
      "Strangers in the Night Frank Sinatra Greatest Hits 42 100 158484\n",
      "Summer Nights Various Grease 35 100 216973\n",
      "Summer Wind Frank Sinatra Greatest Hits 46 100 177554\n",
      "Thats Life Frank Sinatra Greatest Hits 43 100 189988\n",
      "The Battle Of Evermore Led Zeppelin IV 110 100 351529\n",
      "The Blues \"Is\" Bryan Lee Blues Is 45 100 252238\n",
      "There it Is Bryan Lee Blues Is 35 100 395441\n",
      "Think Bryan Lee Blues Is 41 100 320339\n",
      "This Town Frank Sinatra Greatest Hits 44 100 185051\n",
      "Tin Man America Greatest Hits 50 100 210076\n",
      "Track 01 Billy Price Danger Zone 47 100 261825\n",
      "Track 02 Billy Price Danger Zone 42 100 165459\n",
      "Track 03 Billy Price Danger Zone 41 100 206471\n",
      "Messin with the Kid The Canettes Blues Band Self Titled 23 100 226377\n",
      "Track 04 Billy Price Danger Zone 37 100 257175\n",
      "Stormy Monday The Canettes Blues Band Self Titled 29 100 464143\n",
      "Track 05 Billy Price Danger Zone 42 100 230295\n",
      "Waiting on Ice Bryan Lee Blues Is 37 100 289384\n",
      "War Pigs/Luke's Wall Black Sabbath Paranoid 38 100 478197\n",
      "We Are The Champions Queen Greatest Hits 24 100 181864\n",
      "We Will Rock You Queen Greatest Hits 33 100 123559\n",
      "When Somebody Loves You Frank Sinatra Greatest Hits 43 100 117263\n",
      "When The Levee Breaks Led Zeppelin IV 83 100 427624\n",
      "You are the One that I Want Various Grease 31 100 169900\n",
      "You Done Me Wrong Bryan Lee Blues Is 35 100 200097\n",
      "You Shook Me All Night Long AC/DC Who Made Who 92 100 210938\n",
      "You're My Best Friend Queen Greatest Hits 31 100 172643\n",
      "Zion Fluke The Matrix Reloaded 47 100 273528\n",
      "Who Made Who AC/DC Who Made Who 110 100 207203\n",
      "D.T. AC/DC Who Made Who 90 None 173714\n",
      "Sink the Pink AC/DC Who Made Who 83 None 253466\n",
      "Ride On AC/DC Who Made Who 75 None 351268\n",
      "Chase the Ace AC/DC Who Made Who 93 None 181420\n",
      "Wollt Ihr Das Bett In Flammen Sehen Rammstein Herzeleid 50 None 317387\n",
      "Der Meister Rammstein Herzeleid 46 None 250801\n",
      "Weisses Fleisch Rammstein Herzeleid 52 None 215902\n",
      "Seemann Rammstein Herzeleid 34 None 288235\n",
      "Du Riechst So Gut Rammstein Herzeleid 50 None 289332\n",
      "Das Alte Leid Rammstein Herzeleid 46 None 344581\n",
      "Heirate Mich Rammstein Herzeleid 39 None 284734\n",
      "Herzeleid Rammstein Herzeleid 42 None 223425\n",
      "Baba O'Riley The Who Who's Next 45 None 298448\n",
      "Bargain The Who Who's Next 37 None 331676\n",
      "Love Ain't for Keeping The Who Who's Next 24 None 130560\n",
      "My Wife The Who Who's Next 17 None 213786\n",
      "The Song Is Over The Who Who's Next 14 None 375797\n",
      "Getting In Tune The Who Who's Next 27 None 288809\n",
      "Going Mobile The Who Who's Next 28 100 221910\n",
      "Behind Blue Eyes The Who Who's Next 43 None 221570\n",
      "Won't Get Fooled Again The Who Who's Next 21 None 511111\n",
      "Folsom Prison Blues Johnny Cash The Legend Of Johnny Cash 47 100 170004\n",
      "I Walk The Line Johnny Cash The Legend Of Johnny Cash 33 100 165720\n",
      "Get Rhythm Johnny Cash The Legend Of Johnny Cash 35 100 134530\n",
      "Big River Johnny Cash The Legend Of Johnny Cash 51 None 152711\n",
      "Guess Things Happen That Way Johnny Cash The Legend Of Johnny Cash 35 None 111386\n",
      "Ring Of Fire Johnny Cash The Legend Of Johnny Cash 30 100 157100\n",
      "Jackson Johnny Cash The Legend Of Johnny Cash 35 100 166530\n",
      "A Boy Named Sue (live) Johnny Cash The Legend Of Johnny Cash 37 None 226063\n",
      "You Raise Me Up Selah Hiding Place 9 None 302262\n",
      "Hold On, I'm Coming The Canettes Blues Band On Tap & In the Can 34 100 282566\n",
      "Got my Mojo Working The Canettes Blues Band On Tap & In the Can 52 100 310517\n",
      "Sweet Home Chicago The Canettes Blues Band On Tap & In the Can 27 100 375849\n",
      "Heavy Love The Canettes Blues Band On Tap & In the Can 28 100 253544\n",
      "Cold Cold Feeling The Canettes Blues Band On Tap & In the Can 43 100 261929\n",
      "Lonely Avenue The Canettes Blues Band On Tap & In the Can 24 100 292022\n",
      "Good Morning Little Schoolgirl The Canettes Blues Band On Tap & In the Can 20 100 278648\n",
      "Dust My Broom The Canettes Blues Band On Tap & In the Can 24 100 299311\n",
      "Gimme' Some Lovin The Canettes Blues Band On Tap & In the Can 35 100 227239\n",
      "Everybody Needs Somebody to Love The Canettes Blues Band On Tap & In the Can 24 100 195186\n",
      "Black Magic Woman The Canettes Blues Band On Tap & In the Can 31 100 442644\n",
      "Steppin' Rooster The Canettes Blues Band On Tap & In the Can 21 100 704862\n",
      "Our Love is Drifting The Canettes Blues Band On Tap & In the Can 15 100 292649\n",
      "Doin' 100 The Canettes Blues Band On Tap & In the Can 20 100 343980\n",
      "Mother Joy Matt Ender Natural Wonders Music Sampler 1999 463 None 287294\n",
      "Soldier's Lament Steve McDonald Natural Wonders Music Sampler 1999 371 None 347193\n",
      "Dulaman Altan Natural Wonders Music Sampler 1999 403 None 223007\n",
      "The Arrow Chris Spheeris Natural Wonders Music Sampler 1999 416 None 319869\n",
      "Spanish Eyes La Esperanza Natural Wonders Music Sampler 1999 375 None 259030\n",
      "Banana Bay Luis Villegas Natural Wonders Music Sampler 1999 403 None 198060\n",
      "Aguas De Marco Rosa Passos Natural Wonders Music Sampler 1999 407 None 179408\n",
      "Tamborea Energipsy Natural Wonders Music Sampler 1999 355 None 235389\n",
      "Gone Hollie Smith Natural Wonders Music Sampler 1999 362 None 196414\n",
      "The Immigrant Joanie Madden Natural Wonders Music Sampler 1999 350 None 362631\n",
      "Pahrump-Big Water Cusco Natural Wonders Music Sampler 1999 342 None 191634\n",
      "Seeker's Quest Cheryl Gunn Natural Wonders Music Sampler 1999 337 None 236434\n",
      "Floating To Forever Dean Everson Natural Wonders Music Sampler 1999 337 None 351686\n",
      "Open Road Jeff Bailey Relaxing Jazz 10 None 318563\n",
      "Ruby Kaiser Chiefs Yours Truly, Angry Mob 13 None 205008\n",
      "The Angry Mob Kaiser Chiefs Yours Truly, Angry Mob 41 None 288313\n",
      "Heat Dies Down Kaiser Chiefs Yours Truly, Angry Mob 12 None 237061\n",
      "Highroyds Kaiser Chiefs Yours Truly, Angry Mob 10 None 199575\n",
      "Love's Not A Competition (But I'm Winning) Kaiser Chiefs Yours Truly, Angry Mob 11 None 197799\n",
      "Thank You Very Much Kaiser Chiefs Yours Truly, Angry Mob 11 None 157753\n",
      "I Can Do It Without You Kaiser Chiefs Yours Truly, Angry Mob 11 None 204199\n",
      "My Kind Of Guy Kaiser Chiefs Yours Truly, Angry Mob 10 None 246595\n",
      "Everything Is Average Nowadays Kaiser Chiefs Yours Truly, Angry Mob 16 None 164754\n",
      "Learnt My Lesson Well Kaiser Chiefs Yours Truly, Angry Mob 9 None 325955\n",
      "Try Your Best Kaiser Chiefs Yours Truly, Angry Mob 8 None 222511\n",
      "Retirement Kaiser Chiefs Yours Truly, Angry Mob 10 None 237426\n",
      "The Angry Mob [Live From Berlin] Kaiser Chiefs Yours Truly, Angry Mob 40 None 279066\n",
      "I Like To Fight Kaiser Chiefs Yours Truly, Angry Mob 8 None 218566\n",
      "From The Neck Down Kaiser Chiefs Yours Truly, Angry Mob 15 None 147226\n",
      "Bomb Squad (TECH) Brent Brent's Album 4 None 208065\n",
      "BYURY ME Brent Peanut Butter & Jam  4 None 274076\n",
      "Charlie and the Rising Moon Charlie And The Rising Moon Charlie and The Rising Moon None None 161645\n",
      "clay techno  Brent Brent's Album 5 None 276062\n"
     ]
    },
    {
     "name": "stdout",
     "output_type": "stream",
     "text": [
      "Cloud Nine Times Over  Charlie And The Rising Moon Charlie and The Rising Moon 3 None 135131\n",
      "Depression in Session Brent Peanut Butter and Jam  4 None 213211\n",
      "Heavy Brent Brent's Album 2 None 188055\n",
      "Hi metal man Brent Brent's Album 4 None 260153\n",
      "Mistro Brent Brent's Album 5 None 178076\n",
      "Pirate spirit Brent Brent's Album 3 None 180480\n",
      "Run Away (New)  Brent Brent's Album 1 None 154383\n",
      "Star Gaze (Inspired) Charlie And The Rising Moon Charlie and The Rising Moon None None 181498\n",
      "The Dictator (New Brent Peanut Butter & Jam  5 None 143830\n",
      "Town From Town Brent Brent's Album 4 None 86073\n",
      "The Wisdom of Crowds: Why the Many Are Smarter than the Few Part 1 of 3 James Surowiecki The Wisdom of Crowds: Why the Many Are Smarter than the Few (Abridged Nonfiction) 15 None 8586749\n",
      "The Wisdom of Crowds: Why the Many Are Smarter than the Few Part 2 of 3 James Surowiecki The Wisdom of Crowds: Why the Many Are Smarter than the Few (Abridged Nonfiction) 9 None 8443432\n",
      "The Wisdom of Crowds: Why the Many Are Smarter than the Few Part 3 of 3 James Surowiecki The Wisdom of Crowds: Why the Many Are Smarter than the Few (Abridged Nonfiction) 3 None 4168829\n",
      "The Wisdom of Crowds: Why the Many Are Smarter Than the Few (Unabridged) Part 1 of 5 James Surowiecki The Wisdom of Crowds: Why the Many Are Smarter Than the Few (Unabridged) 4 None 7920893\n",
      "The Wisdom of Crowds: Why the Many Are Smarter Than the Few (Unabridged) Part 2 of 5 James Surowiecki The Wisdom of Crowds: Why the Many Are Smarter Than the Few (Unabridged) None None 7921106\n",
      "The Wisdom of Crowds: Why the Many Are Smarter Than the Few (Unabridged) Part 3 of 5 James Surowiecki The Wisdom of Crowds: Why the Many Are Smarter Than the Few (Unabridged) None None 7965736\n",
      "The Wisdom of Crowds: Why the Many Are Smarter Than the Few (Unabridged) Part 4 of 5 James Surowiecki The Wisdom of Crowds: Why the Many Are Smarter Than the Few (Unabridged) 1 None 9653330\n",
      "The Wisdom of Crowds: Why the Many Are Smarter Than the Few (Unabridged) Part 5 of 5 James Surowiecki The Wisdom of Crowds: Why the Many Are Smarter Than the Few (Unabridged) None None 746536\n",
      "Misty David Osborne Moonlight And Love Songs 302 None 249312\n",
      "My Funny Valentine David Osborne Moonlight And Love Songs 301 None 235885\n",
      "Since I Don't Have You David Osborne Moonlight And Love Songs 288 None 251846\n",
      "Tenderly David Osborne Moonlight And Love Songs 284 None 227395\n",
      "When I Fall In Love David Osborne Moonlight And Love Songs 281 None 187768\n",
      "Unforgettable David Osborne Moonlight And Love Songs 280 None 272927\n",
      "The Way You Look Tonight David Osborne Moonlight And Love Songs 277 None 247222\n",
      "I've Grown Accustomed To Your Face David Osborne Moonlight And Love Songs 280 None 148035\n",
      "Smoke Gets In Your Eyes David Osborne Moonlight And Love Songs 277 None 198504\n",
      "Fly Me To The Moon David Osborne Moonlight And Love Songs 275 None 182543\n",
      "Unchained Melody David Osborne Moonlight And Love Songs 265 None 259369\n",
      "These Foolish Things Remind Me Of You David Osborne Moonlight And Love Songs 267 None 184711\n",
      "La Vie En Rose David Osborne Moonlight And Love Songs 259 None 276767\n",
      "As Time Goes By David Osborne Moonlight And Love Songs 290 None 257985\n",
      "Pilot Fairly Legal Fairly Legal, Season 1 1 None 3847006\n",
      "Jobs2a csev csev's Album None None 541074\n",
      "hte postal service - the impor The Postal Service unreleased demo None None 193959\n",
      "Winter Wonderland Bing Crosby Seasons Greatings 163 None 144744\n",
      "Jingle Bells Frank Sinatra Seasons Greatings 271 None 121756\n",
      "White Christmas Bing Crosby Seasons Greatings 158 None 95634\n",
      "The Christmas Song Frank Sinatra Seasons Greatings 272 None 209632\n",
      "Little Drummer Boy Bing Crosby Seasons Greatings 154 None 178311\n",
      "Silent Night Frank Sinatra Seasons Greatings 257 None 149054\n",
      "Let It Snow Bing Crosby Seasons Greatings 154 None 125126\n",
      "Mistletoe And Holly Frank Sinatra Seasons Greatings 257 None 138501\n",
      "O Holy Night Bing Crosby Seasons Greatings 150 None 214021\n",
      "Have Yourself A Merry Little Christmas Frank Sinatra Seasons Greatings 252 None 208248\n",
      "Do You Hear What I Hear Bing Crosby Seasons Greatings 155 None 164728\n",
      "I'll Be Home For Christmas Frank Sinatra Seasons Greatings 249 None 190876\n",
      "Voices Disturbed The Sickness None None 191764\n",
      "The Game Disturbed The Sickness 1 None 227134\n",
      "Stupify Disturbed The Sickness 1 None 274233\n",
      "Down With The Sickness Disturbed The Sickness 1 None 278726\n",
      "Violence Fetish Disturbed The Sickness None None 203833\n",
      "Fear Disturbed The Sickness 4 None 227004\n",
      "Numb Disturbed The Sickness None None 224940\n",
      "Want Disturbed The Sickness None None 232803\n",
      "Conflict Disturbed The Sickness 5 None 275330\n",
      "Shout 2000 Disturbed The Sickness 1 None 257802\n",
      "Droppin' Plates Disturbed The Sickness 4 None 229302\n",
      "Meaning Of Life Disturbed The Sickness 3 None 242599\n",
      "PY4INF-01-Intro.mp3 Recording by Dr. Chuck Python for Informatics's official Podcast. 1 None 3428075\n",
      "Eben Upton: Raspberry Pi IEEE Computer Society Computing Conversations 2 None 661368\n",
      "Andrew Tanenbaum: Writing the Book on Networks IEEE Computer Society Computing Conversations 4 None 535040\n",
      "Massimo Banzi: Building Arduino IEEE Computer Society Computing Conversations 1 None 567745\n",
      "PY4INF-04-Functions.mp3 Recording by Dr. Chuck Python for Informatics's official Podcast. None None 1683800\n",
      "PY4INF-02-Expressions.mp3 Recording by Dr. Chuck Python for Informatics's official Podcast. None None 2578416\n",
      "PY4INF-03-Conditional.mp3 Recording by Dr. Chuck Python for Informatics's official Podcast. None None 2296058\n",
      "PY4INF-05-Iterations.mp3 Recording by Dr. Chuck Python for Informatics's official Podcast. 1 None 2804297\n",
      "PY4INF-06-Strings.mp3 Recording by Dr. Chuck Python for Informatics's official Podcast. None None 1677844\n",
      "PY4INF-07-Files.mp3 Recording by Dr. Chuck Python for Informatics's official Podcast. None None 1478713\n",
      "PY4INF-08-Lists.mp3 Recording by Dr. Chuck Python for Informatics's official Podcast. None None 1636231\n",
      "PY4INF-09-Dictionaries.mp3 Recording by Dr. Chuck Python for Informatics's official Podcast. None None 2254445\n",
      "PY4INF-10-Tuples.mp3 Recording by Dr. Chuck Python for Informatics's official Podcast. None None 1597596\n",
      "PY4INF-11-Regex.mp3 Recording by Dr. Chuck Python for Informatics's official Podcast. None None 2123702\n",
      "John C. Hollar: History of Computing IEEE Computer Society Computing Conversations 1 None 694073\n",
      "Bob Metcalfe: Ethernet at Forty IEEE Computer Society Computing Conversations None None 1031392\n",
      "Gordon Bell: Building Blocks of Computing IEEE Computer Society Computing Conversations 1 None 744620\n",
      "Ian Horrocks: Standardizing OWL IEEE Computer Society Computing Conversations 1 None 572212\n",
      "Katie Hafner: The Origins of the Internet IEEE Computer Society Computing Conversations 1 None 652460\n",
      "Larry Smarr: Building Mosaic IEEE Computer Society Computing Conversations None None 894693\n",
      "Len Kleinrock: The Theory of Packets IEEE Computer Society Computing Conversations 1 None 674742\n",
      "Mitchell Baker: The Mozilla Foundation IEEE Computer Society Computing Conversations None None 994246\n",
      "Pooja Sankar: Building the Piazza Collaboration System IEEE Computer Society Computing Conversations None None 496404\n",
      "Van Jacobson: Content-Centric Networking IEEE Computer Society Computing Conversations None None 780251\n",
      "The Apache Software Foundation IEEE Computer Society Computing Conversations None None 542484\n",
      "A Brief History of Packets IEEE Computer Society Computing Conversations None None 1004643\n",
      "Discovering JavaScript Object Notation IEEE Computer Society Computing Conversations None None 650971\n",
      "Inventing PHP IEEE Computer Society Computing Conversations None None 494915\n",
      "Monash Museum of Computing History IEEE Computer Society Computing Conversations None None 362657\n",
      "The Rise of JavaScript IEEE Computer Society Computing Conversations None None 526132\n",
      "Joseph Hardin: NCSA Mosaic IEEE Computer Society Computing Conversations None None 845635\n",
      "Len Kleinrock on the Internet's First Two Packets IEEE Computer Society Computing Conversations 1 None 594390\n",
      "Doug Van Houweling on Building the NSFNet IEEE Computer Society Computing Conversations None None 773146\n",
      "Computing Conversations: Nathaniel Borenstein on MIME IEEE Computer Society Computing Conversations None None 682135\n",
      "You Don't Mess Around With Jim Jim Croce Classic Hits None None 184398\n",
      "Andrew S. Tanenbaum on MINIX IEEE Computer Society Computing Conversations None None 603000\n",
      "Computing Conversations: Elizabeth Fong on SQL Standards IEEE Computer Society Computing Conversations None None 533577\n",
      "Nii Quaynor on Bringing the Internet to Africa IEEE Computer Society Computing Conversations 1 None 673332\n"
     ]
    },
    {
     "name": "stdout",
     "output_type": "stream",
     "text": [
      "PHP-09-Transactions.mp3 Created by Sakai SI 664 W14's official Podcast. None None 1728888\n",
      "PHP-01-Intro.mp3 Created by Sakai SI 664 W14's official Podcast. None None 2250624\n",
      "PHP-02-Install.mp3 Created by Sakai SI 664 W14's official Podcast. 1 None None\n",
      "PHP-04-Expressions.mp3 Created by Sakai SI 664 W14's official Podcast. None None 2168064\n",
      "PHP-05-Functions.mp3 Created by Sakai SI 664 W14's official Podcast. None None 1446792\n",
      "PHP-06-Strings.mp3 Created by Sakai SI 664 W14's official Podcast. None None 417696\n",
      "PHP-12-Sessions.mp3 Created by Sakai SI 664 W14's official Podcast. None None 3624312\n",
      "PHP-06-Objects.mp3 Created by Sakai SI 664 W14's official Podcast. None None 2455368\n",
      "SI664-13-JSON-A.mp3 Created by Sakai SI 664 W14's official Podcast. None None 4407672\n",
      "PHP-13-JavaScript.mp3 Created by Sakai SI 664 W14's official Podcast. None None 3650088\n",
      "PHP-09-Database-Design.mp3 Created by Sakai SI 664 W14's official Podcast. None None 3591072\n",
      "PHP-Tsugi-Install.mp3 Created by Sakai SI 664 W14's official Podcast. None None 3181656\n",
      "PHP-10-MySQL-PDO.mp3 Created by Sakai SI 664 W14's official Podcast. None None 4536685\n",
      "PHP-08-MySQL.mp3 Created by Sakai SI 664 W14's official Podcast. None None 3994656\n",
      "SI664-13-JSON-B.mp3 Created by Sakai SI 664 W14's official Podcast. None None 1484616\n",
      "IMS-Learning-Tools-Interoperability.mp3 Created by Sakai SI 664 W14's official Podcast. None None 2185848\n",
      "An Interview with Don Waters Matt Pasiewicz CNI Event Coverage 2 None 1411082\n",
      "PY4INF-11-Regex.mp3 Recording by Dr. Chuck Python for Informatics's official Podcast. None None 2123702\n",
      "PY4INF-10-Tuples.mp3 Recording by Dr. Chuck Python for Informatics's official Podcast. None None 1597596\n",
      "PY4INF-09-Dictionaries.mp3 Recording by Dr. Chuck Python for Informatics's official Podcast. None None 2254445\n",
      "PY4INF-08-Lists.mp3 Recording by Dr. Chuck Python for Informatics's official Podcast. None None 1636231\n",
      "PY4INF-07-Files.mp3 Recording by Dr. Chuck Python for Informatics's official Podcast. None None 1478713\n",
      "PY4INF-06-Strings.mp3 Recording by Dr. Chuck Python for Informatics's official Podcast. None None 1677844\n",
      "PY4INF-05-Iterations.mp3 Recording by Dr. Chuck Python for Informatics's official Podcast. None None 2804297\n",
      "PY4INF-04-Functions.mp3 Recording by Dr. Chuck Python for Informatics's official Podcast. None None 1683800\n",
      "PY4INF-03-Conditional.mp3 Recording by Dr. Chuck Python for Informatics's official Podcast. None None 2296058\n",
      "PY4INF-02-Expressions.mp3 Recording by Dr. Chuck Python for Informatics's official Podcast. None None 2578416\n",
      "PY4INF-01-Intro.mp3 Recording by Dr. Chuck Python for Informatics's official Podcast. None None 3428075\n",
      "Py4Inf-11-Regex.mp3 Recording by Dr. Chuck Python for Informatics's official Podcast. None None 2123702\n",
      "Py4Inf-10-Tuples.mp3 Recording by Dr. Chuck Python for Informatics's official Podcast. None None 1597596\n",
      "Py4Inf-09-Dictionaries.mp3 Recording by Dr. Chuck Python for Informatics's official Podcast. None None 2254445\n",
      "Py4Inf-08-Lists.mp3 Recording by Dr. Chuck Python for Informatics's official Podcast. None None 1636231\n",
      "Py4Inf-07-Files.mp3 Recording by Dr. Chuck Python for Informatics's official Podcast. None None 1478713\n",
      "Py4Inf-06-Strings.mp3 Recording by Dr. Chuck Python for Informatics's official Podcast. None None 1677844\n",
      "Py4Inf-05-Iterations.mp3 Recording by Dr. Chuck Python for Informatics's official Podcast. None None 2804297\n",
      "Py4Inf-04-Functions.mp3 Recording by Dr. Chuck Python for Informatics's official Podcast. None None 1683800\n",
      "Py4Inf-03-Conditional.mp3 Recording by Dr. Chuck Python for Informatics's official Podcast. None None 2296058\n",
      "Py4Inf-02-Expressions.mp3 Recording by Dr. Chuck Python for Informatics's official Podcast. None None 2578416\n",
      "Py4Inf-01-Intro.mp3 Recording by Dr. Chuck Python for Informatics's official Podcast. None None 3428075\n",
      "Ian Foster on the Globus Project IEEE Computer Society Computing Conversations 1 None 538305\n",
      "Khan Academy and Computer Science IEEE Computer Society Computing Conversations 1 None 558837\n",
      "Guido van Rossumon the Early Years of Python IEEE Computer Society Computing Conversations 1 None 701884\n",
      "Guido van Rossum on the Modern Era of Python IEEE Computer Society Computing Conversations None None 741616\n",
      "John Resig on Building jQuery IEEE Computer Society Computing Conversations None None 595983\n",
      "Roy T. Fielding on Understanding the REST Style IEEE Computer Society Computing Conversations 1 None 683650\n",
      "Anil Jain: 25 Years of Biometric Recognition IEEE Computer Society Computing Conversations None None 661368\n",
      "Waste Management Undercover Boss Undercover Boss, Season 1 1 None 2565232\n",
      "Sleep Like a Baby Tonight U2 Songs of Innocence None None 301641\n",
      "Evergreen The Black Crowes Warpaint None None 261373\n",
      "Oh Josephine The Black Crowes Warpaint None None 398907\n",
      "Movin' On Down the Line The Black Crowes Warpaint None None 342693\n",
      "Wounded Bird The Black Crowes Warpaint None None 263453\n",
      "Volcano U2 Songs of Innocence None None 194116\n",
      "Wee Who See the Deep The Black Crowes Warpaint None None 290520\n",
      "Cedarwood Road U2 Songs of Innocence None None 265268\n",
      "Locust Street The Black Crowes Warpaint None None 255240\n",
      "Raised By Wolves U2 Songs of Innocence None None 245599\n",
      "The Troubles U2 Songs of Innocence None None 285843\n",
      "This Is Where You Can Reach Me Now U2 Songs of Innocence None None 305134\n",
      "God's Got It The Black Crowes Warpaint None None 202653\n",
      "California (There Is No End to Love) U2 Songs of Innocence None None 239846\n",
      "Every Breaking Wave U2 Songs of Innocence None None 252162\n",
      "Interview With the Onion News Network Onion News Network Onion News Network, Season 1 1 None 302002\n",
      "Song for Someone U2 Songs of Innocence None None 226763\n",
      "The Miracle (Of Joey Ramone) U2 Songs of Innocence None None 255382\n",
      "Iris (Hold Me Close) U2 Songs of Innocence None None 319457\n",
      "Goodbye Daughters of the Revolution The Black Crowes Warpaint None None 304147\n",
      "Walk Believer Walk The Black Crowes Warpaint None None 280253\n",
      "Choice Hotels International Undercover Boss Undercover Boss, Season 2 1 None 2614047\n",
      "Microchip Jason Farnham YouTube Audio Library None None 114336\n",
      "Anant Agarwal IEEE Computer Society Computing Conversations None None 494000\n"
     ]
    }
   ],
   "source": [
    "#This file reads in an XML of your favorite song details, copies this to a SQLite database, and prints all song attributes from your iTunes library.\n",
    "import xml.etree.ElementTree as ET\n",
    "import sqlite3\n",
    "\n",
    "#Create the SQLite database that you will then populate with song info\n",
    "conn = sqlite3.connect('trackdb.sqlite')\n",
    "cur = conn.cursor()\n",
    "\n",
    "#Make some fresh tables using executescript()\n",
    "cur.executescript('''\n",
    "DROP TABLE IF EXISTS Artist;\n",
    "DROP TABLE IF EXISTS Album;\n",
    "DROP TABLE IF EXISTS Track;\n",
    "\n",
    "CREATE TABLE Artist (\n",
    "    id  INTEGER NOT NULL PRIMARY KEY AUTOINCREMENT UNIQUE,\n",
    "    name    TEXT UNIQUE\n",
    ");\n",
    "\n",
    "CREATE TABLE Album (\n",
    "    id  INTEGER NOT NULL PRIMARY KEY AUTOINCREMENT UNIQUE,\n",
    "    artist_id  INTEGER,\n",
    "    title   TEXT UNIQUE\n",
    ");\n",
    "\n",
    "CREATE TABLE Track (\n",
    "    id  INTEGER NOT NULL PRIMARY KEY \n",
    "        AUTOINCREMENT UNIQUE,\n",
    "    title TEXT  UNIQUE,\n",
    "    album_id  INTEGER,\n",
    "    len INTEGER, rating INTEGER, count INTEGER\n",
    ");\n",
    "''')\n",
    "\n",
    "fname = input('Enter file name (Type \"Library.xml\"): ')\n",
    "if ( len(fname) < 1 ) : fname = 'Library.xml'\n",
    "\n",
    "def lookup(d, key):\n",
    "    found = False\n",
    "    for child in d:\n",
    "        if found : return child.text\n",
    "        if child.tag == 'key' and child.text == key :\n",
    "            found = True\n",
    "    return None\n",
    "\n",
    "stuff = ET.parse(fname)\n",
    "all = stuff.findall('dict/dict/dict')\n",
    "print('Dict count:', len(all))\n",
    "\n",
    "for entry in all:\n",
    "    if ( lookup(entry, 'Track ID') is None ) : continue\n",
    "\n",
    "    name = lookup(entry, 'Name')\n",
    "    artist = lookup(entry, 'Artist')\n",
    "    album = lookup(entry, 'Album')\n",
    "    count = lookup(entry, 'Play Count')\n",
    "    rating = lookup(entry, 'Rating')\n",
    "    length = lookup(entry, 'Total Time')\n",
    "\n",
    "    if name is None or artist is None or album is None : \n",
    "        continue\n",
    "\n",
    "    print(name, artist, album, count, rating, length)\n",
    "\n",
    "    #Write the data from Library.xml into your SQLite database!\n",
    "    cur.execute('''INSERT OR IGNORE INTO Artist (name) \n",
    "        VALUES ( ? )''', ( artist, ) )\n",
    "    cur.execute('SELECT id FROM Artist WHERE name = ? ', (artist, ))\n",
    "    artist_id = cur.fetchone()[0]\n",
    "\n",
    "    cur.execute('''INSERT OR IGNORE INTO Album (title, artist_id) \n",
    "        VALUES ( ?, ? )''', ( album, artist_id ) )\n",
    "    cur.execute('SELECT id FROM Album WHERE title = ? ', (album, ))\n",
    "    album_id = cur.fetchone()[0]\n",
    "\n",
    "    cur.execute('''INSERT OR REPLACE INTO Track\n",
    "        (title, album_id, len, rating, count) \n",
    "        VALUES ( ?, ?, ?, ?, ? )''', \n",
    "        ( name, album_id, length, rating, count ) )\n",
    "\n",
    "    conn.commit()\n",
    "\n",
    "    "
   ]
  },
  {
   "cell_type": "markdown",
   "metadata": {},
   "source": [
    "### Many-to-many relationships"
   ]
  },
  {
   "cell_type": "markdown",
   "metadata": {},
   "source": [
    "One-to-many relationships: One album vs. many tracks\n",
    "\n",
    "Many-to-many relationships:  Books and authors.  One author may have many books.  One book may have many authors.\n",
    "\n",
    "To decompose many-to-many relationships, use a junction table whose purpose is just to represent the common table.\n",
    "\n",
    "Example:\n",
    "Course table with columns id, title\n",
    "User table with columns id, name, email\n",
    "Member junction table with columns user_id, course_id\n"
   ]
  },
  {
   "cell_type": "markdown",
   "metadata": {
    "collapsed": true
   },
   "source": [
    "#Setting up a new data base for Courses, Users, and Members\n",
    "\n",
    "create table Member(\n",
    "\tuser_id integer\n",
    "\tcourse_id integer\n",
    "\t\trole integer\n",
    "\tprimary key (user_id, course_id)\n",
    ")\n",
    "\n",
    "#Add Users and Courses\n",
    "INSERT INTO User(name, email) VALUES ('Jane', 'jane@tsugi.org');\n",
    "INSERT INTO User(name, email) VALUES ('Ed', 'sue@tsugi.org');\n",
    "INSERT INTO User(name, email) VALUES ('Sue', 'sue@tsugi.org');\n",
    "\n",
    "INSERT INTO Course(title) VALUES ('Python');\n",
    "INSERT INTO Course(title) VALUES ('SQL');\n",
    "INSERT INTO Course(title) VALUES ('PHP');\n",
    "\n",
    "INSERT INTO Member(user_id, course_id, role) VALUES (1, 1, 1);\n",
    "INSERT INTO Member(user_id, course_id, role) VALUES (2, 1, 0);\n",
    "INSERT INTO Member(user_id, course_id, role) VALUES (3, 1, 0);\n",
    "\n",
    "INSERT INTO Member(user_id, course_id, role) VALUES (1, 2, 0);\n",
    "INSERT INTO Member(user_id, course_id, role) VALUES (2, 2, 1);\n",
    "\n",
    "INSERT INTO Member(user_id, course_id, role) VALUES (2, 3, 1);\n",
    "INSERT INTO Member(user_id, course_id, role) VALUES (3, 3, 0);\n",
    "\n",
    "Select User.name, Member.role, Course.title\n",
    "From User JOIN Member JOIN Course\n",
    "ON Member.user_id = User.id AND Member.course_id = Course.id\n",
    "ORDER BY Course.title, Member.role DESC, User.name\n"
   ]
  },
  {
   "cell_type": "markdown",
   "metadata": {},
   "source": [
    "###Worked example: Roster.py"
   ]
  },
  {
   "cell_type": "markdown",
   "metadata": {},
   "source": []
  },
  {
   "cell_type": "markdown",
   "metadata": {},
   "source": []
  }
 ],
 "metadata": {
  "kernelspec": {
   "display_name": "Python 3",
   "language": "python",
   "name": "python3"
  },
  "language_info": {
   "codemirror_mode": {
    "name": "ipython",
    "version": 3
   },
   "file_extension": ".py",
   "mimetype": "text/x-python",
   "name": "python",
   "nbconvert_exporter": "python",
   "pygments_lexer": "ipython3",
   "version": "3.6.2"
  }
 },
 "nbformat": 4,
 "nbformat_minor": 2
}
