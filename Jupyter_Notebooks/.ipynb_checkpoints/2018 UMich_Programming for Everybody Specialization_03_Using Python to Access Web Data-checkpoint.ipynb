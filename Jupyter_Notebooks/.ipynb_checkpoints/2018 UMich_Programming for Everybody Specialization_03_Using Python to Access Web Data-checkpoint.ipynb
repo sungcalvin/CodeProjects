{
 "cells": [
  {
   "cell_type": "markdown",
   "metadata": {},
   "source": [
    "This is a Jupyter notebook for learning the Coursera \"Programming for Everybody (Getting Started with Python)\" UMich course. This is Course 3 in the Programming for Everybody Specialization.\n",
    "\n",
    "Course website: https://www.coursera.org/learn/python"
   ]
  },
  {
   "cell_type": "markdown",
   "metadata": {},
   "source": [
    "Start Date: 8/23/2018\n",
    "End Date: 8/xx/2018"
   ]
  },
  {
   "cell_type": "markdown",
   "metadata": {},
   "source": [
    "The professor of this course, Chuck Saverance, has a website for his book: \"Python for Everybody\".\n",
    "\n",
    "Link available here: https://www.py4e.com/\n",
    "\n",
    "You can download all of the sample Python code from the book as well as licensed course materials from http://www.py4e.com/materials.\n",
    "\n",
    "This course is in Python 3 and the textbook for this class is in Python 3. Prior to July 2017, this course was taught in Python 2 with the textbook \"Python for Informatics: Exploring Information\". This earlier Python 2 book has translations into Spanish, Korean, and Chinese. The Python 2 book and its translations are still available at the www.pythonlearn.com web site.\n",
    "\n",
    "All of the book materials are available under a Creative Commons Attribution-NonCommercial 3.0 Unported License. The slides, audio, assignments, auto grader and all course materials other than the book are available from http://www.py4e.com/materials under the more flexible Creative Commons Attribution 3.0 Unported License. If you are curious as to why the \"NC\" variant of Creative Commons was used, see Appendix D of the textbook or search through my blog posts for the string \"copyright\"."
   ]
  },
  {
   "cell_type": "markdown",
   "metadata": {},
   "source": [
    "##Chapter 11: Regular Expressions"
   ]
  },
  {
   "cell_type": "markdown",
   "metadata": {},
   "source": [
    "Regular expressions are not built into the language like strings, etc.  So have to import the library using import re."
   ]
  },
  {
   "cell_type": "code",
   "execution_count": 2,
   "metadata": {
    "collapsed": true
   },
   "outputs": [],
   "source": [
    "import re"
   ]
  },
  {
   "cell_type": "markdown",
   "metadata": {},
   "source": [
    "You can use re.search() to see if a string matches a regular expression, similar to using the find() method for strings.  Re.search() returns a Boolean depending on whether the string matches the regular expression.\n"
   ]
  },
  {
   "cell_type": "code",
   "execution_count": 4,
   "metadata": {},
   "outputs": [
    {
     "name": "stdout",
     "output_type": "stream",
     "text": [
      "This is a message box.\n",
      "Oh what fun it is\n"
     ]
    }
   ],
   "source": [
    "#Returns an entire line of text file from any lines containing \"is\".\n",
    "hand = open('mbox-short.txt')\n",
    "for line in hand:\n",
    "    line = line.rstrip()\n",
    "    if re.search('is', line):\n",
    "        print(line)"
   ]
  },
  {
   "cell_type": "markdown",
   "metadata": {},
   "source": [
    "You can also use re.search() like the startswith() string function."
   ]
  },
  {
   "cell_type": "code",
   "execution_count": 11,
   "metadata": {},
   "outputs": [
    {
     "name": "stdout",
     "output_type": "stream",
     "text": [
      "From: Russia with Love\n"
     ]
    }
   ],
   "source": [
    "#Returns an entire line of text file from any lines where \"From:\" is at the BEGINNING of the line.\n",
    "hand = open('mbox-short.txt')\n",
    "for line in hand:\n",
    "    line = line.rstrip()\n",
    "    if re.search('^From:', line):\n",
    "        print(line)"
   ]
  },
  {
   "cell_type": "markdown",
   "metadata": {},
   "source": [
    "Some more on regular expressions:\n",
    "\n",
    "-The dot character matches any character.  \n",
    "\n",
    "-If you add the asterisk character, the character is \"0 or more times\"\n",
    "\n",
    "-Therefore a search for the below regular expression...\n",
    "\n",
    "^X.*:\n",
    "\n",
    "...is a search for any set of characters where X is at the beginning of the line, followed by any number of characters, followed by a colon. \n",
    "\n",
    "-Using \"+\" instead of \"*\" in a regular expression looks for a character occuring \"1 or more times\".\n",
    "\n",
    "-\"\\S\" in a regular expression matches any non-whitespace character.\n",
    "\n",
    "-The below regular expression...\n",
    "\n",
    "^X-\\S+:\n",
    "\n",
    "...is a search for any set of characters where \"X-\" starts the line and is contained one or more times, but only for non-whitespace characters."
   ]
  },
  {
   "cell_type": "markdown",
   "metadata": {},
   "source": [
    "You can use re.findall() to extract portions of a string that match your regular expression, similar to a combination of find() and slicing: var[5:10].  Re.findall() returns a list of all the matching strings to be extracted."
   ]
  },
  {
   "cell_type": "code",
   "execution_count": 3,
   "metadata": {},
   "outputs": [
    {
     "name": "stdout",
     "output_type": "stream",
     "text": [
      "['2', '19', '42']\n"
     ]
    }
   ],
   "source": [
    "#Find all digits occuring once or more in a string.\n",
    "x = 'My 2 favorite numbers are 19 and 42'\n",
    "y = re.findall('[0-9]+',x) \n",
    "print(y)"
   ]
  },
  {
   "cell_type": "code",
   "execution_count": null,
   "metadata": {
    "collapsed": true
   },
   "outputs": [],
   "source": [
    "#Find all capital occuring once or more in a string that does not contain it returns an empty list.\n",
    "x = 'My 2 favorite numbers are 19 and 42'\n",
    "y = re.findall('[AEOIU]+',x) \n",
    "print(y)"
   ]
  },
  {
   "cell_type": "markdown",
   "metadata": {},
   "source": [
    "Note: Both the * and the + push outwards as far as they can.  \n",
    "\n",
    "Example: A search for ^F.+: within \"From: Russia with : love\" returns \"From: Russia with :\", not \"From:\"\n",
    "\n",
    "This is called \"Greedy Matching\".  But if you add a \"?\", it prefers the shortest.\n",
    "\n"
   ]
  },
  {
   "cell_type": "markdown",
   "metadata": {},
   "source": []
  },
  {
   "cell_type": "markdown",
   "metadata": {},
   "source": []
  },
  {
   "cell_type": "markdown",
   "metadata": {},
   "source": [
    "Now we're going to talk about extracting data.  "
   ]
  },
  {
   "cell_type": "markdown",
   "metadata": {},
   "source": [
    "##Chapter 12: Networked Technology"
   ]
  },
  {
   "cell_type": "markdown",
   "metadata": {},
   "source": []
  },
  {
   "cell_type": "markdown",
   "metadata": {},
   "source": []
  }
 ],
 "metadata": {
  "kernelspec": {
   "display_name": "Python 3",
   "language": "python",
   "name": "python3"
  },
  "language_info": {
   "codemirror_mode": {
    "name": "ipython",
    "version": 3
   },
   "file_extension": ".py",
   "mimetype": "text/x-python",
   "name": "python",
   "nbconvert_exporter": "python",
   "pygments_lexer": "ipython3",
   "version": "3.6.2"
  }
 },
 "nbformat": 4,
 "nbformat_minor": 2
}
