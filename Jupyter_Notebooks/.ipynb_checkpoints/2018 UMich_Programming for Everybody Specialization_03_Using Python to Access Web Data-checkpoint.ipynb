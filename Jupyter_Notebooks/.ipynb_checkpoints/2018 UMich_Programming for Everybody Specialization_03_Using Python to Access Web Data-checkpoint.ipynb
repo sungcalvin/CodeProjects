{
 "cells": [
  {
   "cell_type": "markdown",
   "metadata": {},
   "source": [
    "This is a Jupyter notebook for learning the Coursera \"Programming for Everybody (Getting Started with Python)\" UMich course. This is Course 3 in the Programming for Everybody Specialization.\n",
    "\n",
    "Course website: https://www.coursera.org/learn/python"
   ]
  },
  {
   "cell_type": "markdown",
   "metadata": {},
   "source": [
    "Start Date: 8/23/2018\n",
    "End Date: 8/xx/2018"
   ]
  },
  {
   "cell_type": "markdown",
   "metadata": {},
   "source": [
    "The professor of this course, Chuck Saverance, has a website for his book: \"Python for Everybody\".\n",
    "\n",
    "Link available here: https://www.py4e.com/\n",
    "\n",
    "You can download all of the sample Python code from the book as well as licensed course materials from http://www.py4e.com/materials.\n",
    "\n",
    "This course is in Python 3 and the textbook for this class is in Python 3. Prior to July 2017, this course was taught in Python 2 with the textbook \"Python for Informatics: Exploring Information\". This earlier Python 2 book has translations into Spanish, Korean, and Chinese. The Python 2 book and its translations are still available at the www.pythonlearn.com web site.\n",
    "\n",
    "All of the book materials are available under a Creative Commons Attribution-NonCommercial 3.0 Unported License. The slides, audio, assignments, auto grader and all course materials other than the book are available from http://www.py4e.com/materials under the more flexible Creative Commons Attribution 3.0 Unported License. If you are curious as to why the \"NC\" variant of Creative Commons was used, see Appendix D of the textbook or search through my blog posts for the string \"copyright\"."
   ]
  },
  {
   "cell_type": "markdown",
   "metadata": {},
   "source": [
    "##Chapter 11: Regular Expressions"
   ]
  },
  {
   "cell_type": "markdown",
   "metadata": {},
   "source": []
  }
 ],
 "metadata": {
  "kernelspec": {
   "display_name": "Python 3",
   "language": "python",
   "name": "python3"
  },
  "language_info": {
   "codemirror_mode": {
    "name": "ipython",
    "version": 3
   },
   "file_extension": ".py",
   "mimetype": "text/x-python",
   "name": "python",
   "nbconvert_exporter": "python",
   "pygments_lexer": "ipython3",
   "version": "3.6.2"
  }
 },
 "nbformat": 4,
 "nbformat_minor": 2
}
