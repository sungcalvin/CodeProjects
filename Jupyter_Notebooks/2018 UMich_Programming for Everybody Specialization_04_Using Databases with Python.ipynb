{
 "cells": [
  {
   "cell_type": "markdown",
   "metadata": {},
   "source": [
    "This is a Jupyter notebook for learning the Coursera \"Programming for Everybody (Getting Started with Python)\" UMich course. This is Course 3 in the Programming for Everybody Specialization.\n",
    "\n",
    "Course website: https://www.coursera.org/learn/python"
   ]
  },
  {
   "cell_type": "markdown",
   "metadata": {},
   "source": [
    "Start Date: 9/20/2018\n",
    "End Date: 10/XX/2018"
   ]
  },
  {
   "cell_type": "markdown",
   "metadata": {},
   "source": [
    "The professor of this course, Chuck Saverance, has a website for his book: \"Python for Everybody\".\n",
    "\n",
    "Link available here: https://www.py4e.com/\n",
    "\n",
    "You can download all of the sample Python code from the book as well as licensed course materials from http://www.py4e.com/materials.\n",
    "\n",
    "This course is in Python 3 and the textbook for this class is in Python 3. Prior to July 2017, this course was taught in Python 2 with the textbook \"Python for Informatics: Exploring Information\". This earlier Python 2 book has translations into Spanish, Korean, and Chinese. The Python 2 book and its translations are still available at the www.pythonlearn.com web site.\n",
    "\n",
    "All of the book materials are available under a Creative Commons Attribution-NonCommercial 3.0 Unported License. The slides, audio, assignments, auto grader and all course materials other than the book are available from http://www.py4e.com/materials under the more flexible Creative Commons Attribution 3.0 Unported License. If you are curious as to why the \"NC\" variant of Creative Commons was used, see Appendix D of the textbook or search through my blog posts for the string \"copyright\"."
   ]
  },
  {
   "cell_type": "markdown",
   "metadata": {},
   "source": [
    "## Chapter 14: Object Oriented Definitions and Terminology"
   ]
  },
  {
   "cell_type": "markdown",
   "metadata": {},
   "source": [
    "You won't get the entire picture until this is all looked at in the context of a real problem.  You will have to come back to it a couple of times.  Until you really need this concept, you won't really know it."
   ]
  },
  {
   "cell_type": "markdown",
   "metadata": {},
   "source": [
    "The dir() function shows all the methods and variables for that object.  Useful to \"check out\" a function."
   ]
  },
  {
   "cell_type": "code",
   "execution_count": null,
   "metadata": {
    "collapsed": true
   },
   "outputs": [],
   "source": [
    "x = 'abc'\n",
    "print(type(x))\n",
    "dir(x)"
   ]
  },
  {
   "cell_type": "markdown",
   "metadata": {},
   "source": [
    "An example user-defined class."
   ]
  },
  {
   "cell_type": "code",
   "execution_count": null,
   "metadata": {
    "collapsed": true
   },
   "outputs": [],
   "source": [
    "#An example user-defined class\n",
    "class PartyAnimal:\n",
    "    x = 0\n",
    "    \n",
    "    def party(self):\n",
    "        self.x = self.x + 1\n",
    "        print(\"So far\", self.x)\n",
    "\n",
    "an = PartyAnimal()\n",
    "\n",
    "an.party()\n",
    "an.party()\n",
    "an.party()\n",
    "\n",
    "print(\"Type\", type(an))\n",
    "print(\"Dir\", dir(an))"
   ]
  },
  {
   "cell_type": "markdown",
   "metadata": {},
   "source": [
    "The object lifecycle.\n",
    "\n",
    "Objects are created, used, and discarded. \n",
    "\n",
    "We have special blocks of code (methods) that get called \n",
    "    -At the moment of creation (construtor)\n",
    "    -At the moment of destruction (destructor)\n",
    "\n",
    "Constructors are used a lot.  Destructors are seldom used.\n",
    "\n"
   ]
  },
  {
   "cell_type": "code",
   "execution_count": null,
   "metadata": {
    "collapsed": true
   },
   "outputs": [],
   "source": [
    "#An example user-defined class, with constructor and destructor\n",
    "class PartyAnimal:\n",
    "    x = 0\n",
    "    \n",
    "    def __init__(self):\n",
    "        print('I am constructed')\n",
    "    \n",
    "    def party(self):\n",
    "        self.x = self.x + 1\n",
    "        print(\"So far\", self.x)\n",
    "\n",
    "    def __del__(self):\n",
    "        print('I am destructed', self.x)\n",
    "        \n",
    "an = PartyAnimal()\n",
    "an.party()\n",
    "an.party()\n",
    "an.party()\n",
    "\n",
    "print(\"Type\", type(an))\n",
    "print(\"Dir\", dir(an))"
   ]
  },
  {
   "cell_type": "markdown",
   "metadata": {},
   "source": [
    "We can create lots of objects - the class is the template for the object."
   ]
  },
  {
   "cell_type": "code",
   "execution_count": null,
   "metadata": {
    "collapsed": true
   },
   "outputs": [],
   "source": [
    "#An example user-defined class, with constructor and destructor\n",
    "class PartyAnimal:\n",
    "    x = 0\n",
    "    name = \"\"\n",
    "    \n",
    "    def __init__(self, z):\n",
    "        self.name = z\n",
    "        print(self.name, \"constructed\")\n",
    "    \n",
    "    def party(self):\n",
    "        self.x = self.x + 1\n",
    "        print(self.name, \"party count\", self.x)\n",
    "    \n",
    "s = PartyAnimal(\"Sally\")\n",
    "s.party()\n",
    "\n",
    "j = PartyAnimal(\"Jim\")\n",
    "j.party()\n",
    "s.party()"
   ]
  },
  {
   "cell_type": "code",
   "execution_count": null,
   "metadata": {
    "collapsed": true
   },
   "outputs": [],
   "source": [
    "#Now introduce a FootballFan class, which extends PartyAnimal.\n",
    "class PartyAnimal:\n",
    "    x = 0\n",
    "    name = \"\"\n",
    "    \n",
    "    def __init__(self, z):\n",
    "        self.name = z\n",
    "        print(self.name, \"constructed\")\n",
    "    \n",
    "    def party(self):\n",
    "        self.x = self.x + 1\n",
    "        print(self.name, \"party count\", self.x)\n",
    "    \n",
    "class FootballFan(PartyAnimal):\n",
    "    points = 0\n",
    "    def touchdown(self):\n",
    "        self.points = self.points + 7\n",
    "        self.party()\n",
    "        print(self.name, \"points\", self.points)\n",
    "\n",
    "        \n",
    "#A FootballFan object has every method a PartyAnimal object has, and then some.\n",
    "b = FootballFan(\"Bob\")\n",
    "b.party()\n",
    "b.party()\n",
    "b.touchdown()"
   ]
  },
  {
   "cell_type": "markdown",
   "metadata": {},
   "source": [
    "## Chapter 15: Relational Databases"
   ]
  },
  {
   "cell_type": "markdown",
   "metadata": {},
   "source": [
    "### Basic structured query language: An introduction"
   ]
  },
  {
   "cell_type": "markdown",
   "metadata": {},
   "source": [
    "Definitions:\n",
    "    -Database: Contains many tables\n",
    "    -Relation (or table): Contains tuples and attributes\n",
    "    -Tuple (or row): A set of fields that generally represents an \"object\" like a person or a music track\n",
    "    -Attribute (also column or field): One of possibly many elements of data corresponding to the object represented by the row."
   ]
  },
  {
   "cell_type": "markdown",
   "metadata": {},
   "source": [
    "A database model or database schema is the structure or format of a database, described in a formal language supported by the database management system.  \n",
    "\n",
    "It is the application of a data model when used in conjunction with a database management system."
   ]
  },
  {
   "cell_type": "markdown",
   "metadata": {},
   "source": [
    "### Basic structured query language: Single Table CRUD"
   ]
  },
  {
   "cell_type": "markdown",
   "metadata": {},
   "source": [
    "Using DB Browser for SQLite, create a new database.  You will create a new database file, but you won't write code to touch that file directly.  We are always using the SQLite library"
   ]
  },
  {
   "cell_type": "markdown",
   "metadata": {},
   "source": [
    "Sample commands"
   ]
  },
  {
   "cell_type": "markdown",
   "metadata": {},
   "source": [
    "INSERT INTO Users(name, emal) VALUES ('Kristin', 'klt@umich.edu')\n",
    "\n",
    "DELETE FROM Users WHERE email='ted@umich.edu'\n",
    "\n",
    "UPDATE Users SET name='Charles' WHERE emal='csev@umich.edu'\n",
    "\n",
    "SELECT * FROM Users\n",
    "\n",
    "SELECT * FROM Users WHERE emal='csev@umich.edu'\n",
    "\n",
    "SELECT * FROM Users ORDER BY emal\n",
    "\n",
    "\n"
   ]
  }
 ],
 "metadata": {
  "kernelspec": {
   "display_name": "Python 3",
   "language": "python",
   "name": "python3"
  },
  "language_info": {
   "codemirror_mode": {
    "name": "ipython",
    "version": 3
   },
   "file_extension": ".py",
   "mimetype": "text/x-python",
   "name": "python",
   "nbconvert_exporter": "python",
   "pygments_lexer": "ipython3",
   "version": "3.6.2"
  }
 },
 "nbformat": 4,
 "nbformat_minor": 2
}
