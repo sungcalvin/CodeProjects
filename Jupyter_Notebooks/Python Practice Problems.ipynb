{
 "cells": [
  {
   "cell_type": "markdown",
   "metadata": {},
   "source": [
    "Practice problems"
   ]
  },
  {
   "cell_type": "markdown",
   "metadata": {},
   "source": [
    "Date: 9/30/2018\n",
    "\n",
    "This is a Jupyter notebook created just to practice python problems.  Each problem will contain where the problem came from, as well as a text of question.  The code written will be the solution."
   ]
  },
  {
   "cell_type": "markdown",
   "metadata": {},
   "source": [
    "Source: http://www.practicepython.org/exercise/2014/01/29/01-character-input.html\n",
    "\n",
    "Question: \n",
    "\n",
    "Exercise 1\n",
    "\n",
    "Create a program that asks the user to enter their name and their age. Print out a message addressed to them that tells them the year that they will turn 100 years old."
   ]
  },
  {
   "cell_type": "code",
   "execution_count": null,
   "metadata": {
    "collapsed": true
   },
   "outputs": [],
   "source": [
    "name = input('What is your name?')\n",
    "age = input('What is your age?')\n",
    "age = int(age)\n",
    "\n",
    "centennial = str((2018 - age) + 100)\n",
    "print(name + \" will be 100 years old in the year \" + centennial)"
   ]
  },
  {
   "cell_type": "markdown",
   "metadata": {},
   "source": [
    "Source: http://www.practicepython.org/exercise/2014/02/05/02-odd-or-even.html\n",
    "\n",
    "Question: \n",
    "\n",
    "Exercise 2 (and Solution)\n",
    "\n",
    "Ask the user for a number. Depending on whether the number is even or odd, print out an appropriate message to the user. Hint: how does an even / odd number react differently when divided by 2?\n",
    "\n",
    "Extras:\n",
    "\n",
    "    1) If the number is a multiple of 4, print out a different message.\n",
    "    2) Ask the user for two numbers: one number to check (call it num) and one number to divide by (check). If check divides evenly into num, tell that to the user. If not, print a different appropriate message."
   ]
  },
  {
   "cell_type": "code",
   "execution_count": 8,
   "metadata": {},
   "outputs": [
    {
     "name": "stdout",
     "output_type": "stream",
     "text": [
      "Tell me two numbers, the first to check and second to divide by.  I will let you know if the second number divides evenly into the first.  Number12\n",
      "Divisor?3\n",
      "Your second number divides evenly into your first.\n"
     ]
    }
   ],
   "source": [
    "number = int(input('Tell me two numbers, the first to check and second to divide by.  I will let you know if the second number divides evenly into the first.  Number'))\n",
    "divisor = int(input('Divisor?'))\n",
    "\n",
    "if (number % divisor == 0):\n",
    "    print(\"Your second number divides evenly into your first.\")\n",
    "\n",
    "else:\n",
    "    print(\"Your second number does not divide evenly into your first.\")"
   ]
  },
  {
   "cell_type": "markdown",
   "metadata": {},
   "source": [
    "Source: http://www.practicepython.org/exercise/2014/02/15/03-list-less-than-ten.html\n",
    "\n",
    "Question: \n",
    "\n",
    "List Less Than Ten\n",
    "list numbers elements if conditional\n",
    "Exercise 3 (and Solution)\n",
    "\n",
    "Take a list, say for example this one:\n",
    "\n",
    "  a = [1, 1, 2, 3, 5, 8, 13, 21, 34, 55, 89]\n",
    "\n",
    "and write a program that prints out all the elements of the list that are less than 5.\n",
    "\n",
    "Extras:\n",
    "\n",
    "    Instead of printing the elements one by one, make a new list that has all the elements less than 5 from this list in it and print out this new list.\n",
    "    Write this in one line of Python.\n",
    "    Ask the user for a number and return a list that contains only elements from the original list a that are smaller than that number given by the user.\n",
    "    \n",
    "Good link on list comprehensions:  http://treyhunner.com/2015/12/python-list-comprehensions-now-in-color/\n"
   ]
  },
  {
   "cell_type": "code",
   "execution_count": null,
   "metadata": {
    "collapsed": true
   },
   "outputs": [],
   "source": [
    "#The below code takes a list, and writes a program that prints out all elements less than 5.\n",
    "list_a = [1, 1, 2, 3, 5, 8, 13, 21, 34, 55, 89]\n",
    "list_new = []\n",
    "threshold = 5\n",
    "\n",
    "for e in list_a:\n",
    "    if e < threshold:\n",
    "        list_new.append(e)     \n",
    "\n",
    "print(\"The 'for' method:\", list_new)\n",
    "\n",
    "#The below code takes a list, and puts it in one line.  A la \"list comprehension\".\n",
    "list_comprehension = [f for f in list_a if f < threshold]\n",
    "print(\"The 'list comprehension' method:\", list_comprehension)\n",
    "\n",
    "#The below code asks the user for a number and returns a list that only elements from the original list that are smaller than the number given by the user. \n",
    "threshold2 = int(input('Yo, gimme a threshold to play against this list.'))\n",
    "list_comprehension2 = [g for g in list_a if g < threshold2]\n",
    "print(\"The original list, values below user's number:\", list_comprehension2)"
   ]
  },
  {
   "cell_type": "markdown",
   "metadata": {},
   "source": [
    "Source: http://www.practicepython.org/exercise/2014/02/26/04-divisors.html\n",
    "\n",
    "Question: \n",
    "\n",
    "Exercise 4 (and Solution)\n",
    "\n",
    "Create a program that asks the user for a number and then prints out a list of all the divisors of that number. (If you don’t know what a divisor is, it is a number that divides evenly into another number. For example, 13 is a divisor of 26 because 26 / 13 has no remainder.)\n",
    "\n",
    "HINT: The range(x, y) function returns a range of numbers from x to y, inclusive.\n",
    "\n"
   ]
  },
  {
   "cell_type": "code",
   "execution_count": null,
   "metadata": {
    "collapsed": true
   },
   "outputs": [],
   "source": [
    "number = int(input(\"Enter number, and I will tell you its divisors.\"))\n",
    "divisor_range = range(1, 1000)\n",
    "legit_divisors = [divisor for divisor in divisor_range if number % divisor == 0]\n",
    "print(\"The full list of divisors for this number is:\", legit_divisors)"
   ]
  },
  {
   "cell_type": "markdown",
   "metadata": {},
   "source": [
    "Source: http://www.practicepython.org/exercise/2014/03/05/05-list-overlap.html \n",
    "\n",
    "Question: \n",
    "\n",
    "Exercise 5 (and Solution)\n",
    "\n",
    "Take two lists, say for example these two:\n",
    "\n",
    "  a = [1, 1, 2, 3, 5, 8, 13, 21, 34, 55, 89];\n",
    "  b = [1, 2, 3, 4, 5, 6, 7, 8, 9, 10, 11, 12, 13]\n",
    "\n",
    "and write a program that returns a list that contains only the elements that are common between the lists (without duplicates). Make sure your program works on two lists of different sizes.\n",
    "\n",
    "Extras:\n",
    "\n",
    "    Randomly generate two lists to test this\n",
    "    Write this in one line of Python (don’t worry if you can’t figure this out at this point - we’ll get to it soon)"
   ]
  },
  {
   "cell_type": "code",
   "execution_count": null,
   "metadata": {
    "collapsed": true
   },
   "outputs": [],
   "source": [
    "#The below code takes two lists, and returns a third of their common elements\n",
    "a = [1, 1, 2, 3, 5, 8, 13, 21, 34, 55, 89];\n",
    "b = [1, 2, 3, 4, 5, 6, 7, 8, 9, 10, 11, 12, 13]\n",
    "\n",
    "intersect_ab = [whatsup for whatsup in a if whatsup in b]\n",
    "intersect_ab_second = [whatsup for whatsup in b if whatsup in intersect_ab]\n",
    "\n",
    "print(intersect_ab)\n",
    "print(\"First method - List comprehensions on multiple lines\", intersect_ab_second)\n",
    "\n",
    "#The below list does the above in one line\n",
    "intersect_ab_second = [whatsup for whatsup in b if whatsup in [whatsup for whatsup in a if whatsup in b]]\n",
    "print(\"Second method - List comprehensions on one line\", intersect_ab_second)"
   ]
  },
  {
   "cell_type": "markdown",
   "metadata": {},
   "source": [
    "Source: http://www.practicepython.org/exercise/2014/03/12/06-string-lists.html\n",
    "\n",
    "Question: \n",
    "\n",
    "Exercise 6 (and Solution)\n",
    "\n",
    "Ask the user for a string and print out whether this string is a palindrome. (A palindrome is a string that reads the same forwards and backwards.)"
   ]
  },
  {
   "cell_type": "code",
   "execution_count": null,
   "metadata": {
    "collapsed": true
   },
   "outputs": [],
   "source": [
    "#The below code takes a string, and tests if it is a palindrome. \n",
    "import math\n",
    "\n",
    "palindrome_test_string = input(\"Type in a string here, and I'll tell you if it's a palindrome.\")\n",
    "palindrome_test_string_reversed = palindrome_test_string[::-1]\n",
    "\n",
    "palindrome_test_string_length = len(palindrome_test_string)\n",
    "palindrome_test_string_length_half = math.ceil(len(palindrome_test_string)/2)\n",
    "\n",
    "print(\"The length of the string is:\", palindrome_test_string_length)\n",
    "print(\"Half the length of the string is:\", palindrome_test_string_length_half)\n",
    "\n",
    "print(\"The string you typed is:\", palindrome_test_string[0:palindrome_test_string_length])\n",
    "\n",
    "#Note the [::-1] index is a shortcut to create a reversed copy of the original string.\n",
    "print(\"The string you typed is, backwards:\", palindrome_test_string[::-1])\n",
    "\n",
    "string_first_half = palindrome_test_string[0:palindrome_test_string_length_half]\n",
    "print(\"The first half of the string typed is:\", string_first_half)\n",
    "\n",
    "string_second_half_reversed = palindrome_test_string_reversed[0:palindrome_test_string_length_half]\n",
    "print(\"The second half of the string reversed is:\", string_second_half_reversed)\n",
    "\n",
    "if string_first_half == string_second_half_reversed:\n",
    "    print(\"Your string is a palindrome.\")\n",
    "else:\n",
    "    print(\"Sorry, your string is not a palindrome.\")"
   ]
  },
  {
   "cell_type": "markdown",
   "metadata": {},
   "source": [
    "Source: http://www.practicepython.org/exercise/2014/03/19/07-list-comprehensions.html\n",
    "\n",
    "Question: \n",
    "\n",
    "Exercise 7 (and Solution)\n",
    "\n",
    "Let’s say I give you a list saved in a variable: a = [1, 4, 9, 16, 25, 36, 49, 64, 81, 100]. Write one line of Python that takes this list a and makes a new list that has only the even elements of this list in it."
   ]
  },
  {
   "cell_type": "code",
   "execution_count": null,
   "metadata": {
    "collapsed": true
   },
   "outputs": [],
   "source": [
    "#This code takes a list and returns only the even numbers.\n",
    "a = [1, 4, 9, 16, 25, 36, 49, 64, 81, 100]\n",
    "\n",
    "evennumbers = [element for element in a if element % 2 == 0]\n",
    "\n",
    "print(evennumbers)"
   ]
  },
  {
   "cell_type": "markdown",
   "metadata": {},
   "source": [
    "Source: http://www.practicepython.org/exercise/2014/03/26/08-rock-paper-scissors.html\n",
    "\n",
    "Question: \n",
    "\n",
    "Exercise 8 (and Solution)\n",
    "\n",
    "Make a two-player Rock-Paper-Scissors game. (Hint: Ask for player plays (using input), compare them, print out a message of congratulations to the winner, and ask if the players want to start a new game)\n",
    "\n",
    "Remember the rules:\n",
    "\n",
    "    Rock beats scissors\n",
    "    Scissors beats paper\n",
    "    Paper beats rock\n",
    "\n",
    "Concepts for this week:\n",
    "\n",
    "    While loops\n",
    "    Infinite loops\n",
    "    Break statements"
   ]
  },
  {
   "cell_type": "markdown",
   "metadata": {},
   "source": []
  }
 ],
 "metadata": {
  "kernelspec": {
   "display_name": "Python 3",
   "language": "python",
   "name": "python3"
  },
  "language_info": {
   "codemirror_mode": {
    "name": "ipython",
    "version": 3
   },
   "file_extension": ".py",
   "mimetype": "text/x-python",
   "name": "python",
   "nbconvert_exporter": "python",
   "pygments_lexer": "ipython3",
   "version": "3.6.2"
  }
 },
 "nbformat": 4,
 "nbformat_minor": 2
}
