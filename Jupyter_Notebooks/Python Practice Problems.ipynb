{
 "cells": [
  {
   "cell_type": "markdown",
   "metadata": {},
   "source": [
    "Practice problems"
   ]
  },
  {
   "cell_type": "markdown",
   "metadata": {},
   "source": [
    "Date: 9/30/2018\n",
    "\n",
    "This is a Jupyter notebook created just to practice python problems.  Each problem will contain where the problem came from, as well as a text of question.  The code written will be the solution."
   ]
  },
  {
   "cell_type": "markdown",
   "metadata": {},
   "source": [
    "Source: http://www.practicepython.org/exercise/2014/01/29/01-character-input.html\n",
    "\n",
    "Question: \n",
    "\n",
    "Exercise 1\n",
    "\n",
    "Create a program that asks the user to enter their name and their age. Print out a message addressed to them that tells them the year that they will turn 100 years old."
   ]
  },
  {
   "cell_type": "code",
   "execution_count": 1,
   "metadata": {},
   "outputs": [
    {
     "name": "stdout",
     "output_type": "stream",
     "text": [
      "What is your name?calvin\n",
      "What is your age?30\n",
      "calvin will be 100 years old in the year 2088\n"
     ]
    }
   ],
   "source": [
    "name = input('What is your name?')\n",
    "age = input('What is your age?')\n",
    "age = int(age)\n",
    "\n",
    "centennial = str((2018 - age) + 100)\n",
    "print(name + \" will be 100 years old in the year \" + centennial)"
   ]
  },
  {
   "cell_type": "markdown",
   "metadata": {},
   "source": [
    "Source: http://www.practicepython.org/exercise/2014/02/05/02-odd-or-even.html\n",
    "\n",
    "Question: \n",
    "\n",
    "Exercise 2 (and Solution)\n",
    "\n",
    "Ask the user for a number. Depending on whether the number is even or odd, print out an appropriate message to the user. Hint: how does an even / odd number react differently when divided by 2?\n",
    "\n",
    "Extras:\n",
    "\n",
    "    1) If the number is a multiple of 4, print out a different message.\n",
    "    2) Ask the user for two numbers: one number to check (call it num) and one number to divide by (check). If check divides evenly into num, tell that to the user. If not, print a different appropriate message."
   ]
  },
  {
   "cell_type": "code",
   "execution_count": 3,
   "metadata": {},
   "outputs": [
    {
     "name": "stdout",
     "output_type": "stream",
     "text": [
      "Tell me two numbers, the first to check and second to divide by.  I will let you know if the second number divides evenly into the first.  Number22\n",
      "Divisor?7\n",
      "Your second number does not divide evenly into your first.\n"
     ]
    }
   ],
   "source": [
    "number = int(input('Tell me two numbers, the first to check and second to divide by.  I will let you know if the second number divides evenly into the first.  Number'))\n",
    "divisor = int(input('Divisor?'))\n",
    "\n",
    "if (number % divisor == 0):\n",
    "    print(\"Your second number divides evenly into your first.\")\n",
    "\n",
    "else:\n",
    "    print(\"Your second number does not divide evenly into your first.\")"
   ]
  },
  {
   "cell_type": "markdown",
   "metadata": {},
   "source": [
    "Source: http://www.practicepython.org/exercise/2014/02/15/03-list-less-than-ten.html\n",
    "\n",
    "Question: \n",
    "\n",
    "List Less Than Ten\n",
    "list numbers elements if conditional\n",
    "Exercise 3 (and Solution)\n",
    "\n",
    "Take a list, say for example this one:\n",
    "\n",
    "  a = [1, 1, 2, 3, 5, 8, 13, 21, 34, 55, 89]\n",
    "\n",
    "and write a program that prints out all the elements of the list that are less than 5.\n",
    "\n",
    "Extras:\n",
    "\n",
    "    Instead of printing the elements one by one, make a new list that has all the elements less than 5 from this list in it and print out this new list.\n",
    "    Write this in one line of Python.\n",
    "    Ask the user for a number and return a list that contains only elements from the original list a that are smaller than that number given by the user.\n",
    "    \n",
    "Good link on list comprehensions:  http://treyhunner.com/2015/12/python-list-comprehensions-now-in-color/\n"
   ]
  },
  {
   "cell_type": "code",
   "execution_count": 4,
   "metadata": {},
   "outputs": [
    {
     "name": "stdout",
     "output_type": "stream",
     "text": [
      "The 'for' method: [1, 1, 2, 3]\n",
      "The 'list comprehension' method: [1, 1, 2, 3]\n",
      "Yo, gimme a threshold to play against this list.5\n",
      "The original list, values below user's number: [1, 1, 2, 3]\n"
     ]
    }
   ],
   "source": [
    "#The below code takes a list, and writes a program that prints out all elements less than 5.\n",
    "list_a = [1, 1, 2, 3, 5, 8, 13, 21, 34, 55, 89]\n",
    "list_new = []\n",
    "threshold = 5\n",
    "\n",
    "for e in list_a:\n",
    "    if e < threshold:\n",
    "        list_new.append(e)     \n",
    "\n",
    "print(\"The 'for' method:\", list_new)\n",
    "\n",
    "#The below code takes a list, and puts it in one line.  A la \"list comprehension\".\n",
    "list_comprehension = [f for f in list_a if f < threshold]\n",
    "print(\"The 'list comprehension' method:\", list_comprehension)\n",
    "\n",
    "#The below code asks the user for a number and returns a list that only elements from the original list that are smaller than the number given by the user. \n",
    "threshold2 = int(input('Yo, gimme a threshold to play against this list.'))\n",
    "list_comprehension2 = [g for g in list_a if g < threshold2]\n",
    "print(\"The original list, values below user's number:\", list_comprehension2)"
   ]
  },
  {
   "cell_type": "markdown",
   "metadata": {},
   "source": [
    "Source: http://www.practicepython.org/exercise/2014/02/26/04-divisors.html\n",
    "\n",
    "Question: \n",
    "\n",
    "Exercise 4 (and Solution)\n",
    "\n",
    "Create a program that asks the user for a number and then prints out a list of all the divisors of that number. (If you don’t know what a divisor is, it is a number that divides evenly into another number. For example, 13 is a divisor of 26 because 26 / 13 has no remainder.)\n",
    "\n",
    "HINT: The range(x, y) function returns a range of numbers from x to y, inclusive.\n",
    "\n"
   ]
  },
  {
   "cell_type": "code",
   "execution_count": 1,
   "metadata": {},
   "outputs": [
    {
     "name": "stdout",
     "output_type": "stream",
     "text": [
      "Enter number, and I will tell you its divisors.20\n",
      "The full list of divisors for this number is: [1, 2, 4, 5, 10, 20]\n"
     ]
    }
   ],
   "source": [
    "number = int(input(\"Enter number, and I will tell you its divisors.\"))\n",
    "divisor_range = range(1, 1000)\n",
    "legit_divisors = [divisor for divisor in divisor_range if number % divisor == 0]\n",
    "print(\"The full list of divisors for this number is:\", legit_divisors)"
   ]
  },
  {
   "cell_type": "markdown",
   "metadata": {},
   "source": [
    "Source: http://www.practicepython.org/exercise/2014/03/05/05-list-overlap.html \n",
    "\n",
    "Question: \n",
    "\n",
    "Exercise 5 (and Solution)\n",
    "\n",
    "Take two lists, say for example these two:\n",
    "\n",
    "  a = [1, 1, 2, 3, 5, 8, 13, 21, 34, 55, 89];\n",
    "  b = [1, 2, 3, 4, 5, 6, 7, 8, 9, 10, 11, 12, 13]\n",
    "\n",
    "and write a program that returns a list that contains only the elements that are common between the lists (without duplicates). Make sure your program works on two lists of different sizes.\n",
    "\n",
    "Extras:\n",
    "\n",
    "    Randomly generate two lists to test this\n",
    "    Write this in one line of Python (don’t worry if you can’t figure this out at this point - we’ll get to it soon)"
   ]
  },
  {
   "cell_type": "code",
   "execution_count": null,
   "metadata": {
    "collapsed": true
   },
   "outputs": [],
   "source": [
    "#The below code takes two lists, and returns a third of their common elements\n",
    "a = [1, 1, 2, 3, 5, 8, 13, 21, 34, 55, 89];\n",
    "b = [1, 2, 3, 4, 5, 6, 7, 8, 9, 10, 11, 12, 13]\n",
    "\n",
    "intersect_ab = [whatsup for whatsup in a if whatsup in b]\n",
    "intersect_ab_second = [whatsup for whatsup in b if whatsup in intersect_ab]\n",
    "\n",
    "print(intersect_ab)\n",
    "print(\"First method - List comprehensions on multiple lines\", intersect_ab_second)\n",
    "\n",
    "#The below list does the above in one line\n",
    "intersect_ab_second = [whatsup for whatsup in b if whatsup in [whatsup for whatsup in a if whatsup in b]]\n",
    "print(\"Second method - List comprehensions on one line\", intersect_ab_second)"
   ]
  },
  {
   "cell_type": "markdown",
   "metadata": {},
   "source": [
    "Source: http://www.practicepython.org/exercise/2014/03/12/06-string-lists.html\n",
    "\n",
    "Question: \n",
    "\n",
    "Exercise 6 (and Solution)\n",
    "\n",
    "Ask the user for a string and print out whether this string is a palindrome. (A palindrome is a string that reads the same forwards and backwards.)"
   ]
  },
  {
   "cell_type": "code",
   "execution_count": null,
   "metadata": {
    "collapsed": true
   },
   "outputs": [],
   "source": [
    "#The below code takes a string, and tests if it is a palindrome. \n",
    "import math\n",
    "\n",
    "palindrome_test_string = input(\"Type in a string here, and I'll tell you if it's a palindrome.\")\n",
    "palindrome_test_string_reversed = palindrome_test_string[::-1]\n",
    "\n",
    "palindrome_test_string_length = len(palindrome_test_string)\n",
    "palindrome_test_string_length_half = math.ceil(len(palindrome_test_string)/2)\n",
    "\n",
    "print(\"The length of the string is:\", palindrome_test_string_length)\n",
    "print(\"Half the length of the string is:\", palindrome_test_string_length_half)\n",
    "\n",
    "print(\"The string you typed is:\", palindrome_test_string[0:palindrome_test_string_length])\n",
    "\n",
    "#Note the [::-1] index is a shortcut to create a reversed copy of the original string.\n",
    "print(\"The string you typed is, backwards:\", palindrome_test_string[::-1])\n",
    "\n",
    "string_first_half = palindrome_test_string[0:palindrome_test_string_length_half]\n",
    "print(\"The first half of the string typed is:\", string_first_half)\n",
    "\n",
    "string_second_half_reversed = palindrome_test_string_reversed[0:palindrome_test_string_length_half]\n",
    "print(\"The second half of the string reversed is:\", string_second_half_reversed)\n",
    "\n",
    "if string_first_half == string_second_half_reversed:\n",
    "    print(\"Your string is a palindrome.\")\n",
    "else:\n",
    "    print(\"Sorry, your string is not a palindrome.\")"
   ]
  },
  {
   "cell_type": "markdown",
   "metadata": {},
   "source": [
    "Source: http://www.practicepython.org/exercise/2014/03/19/07-list-comprehensions.html\n",
    "\n",
    "Question: \n",
    "\n",
    "Exercise 7 (and Solution)\n",
    "\n",
    "Let’s say I give you a list saved in a variable: a = [1, 4, 9, 16, 25, 36, 49, 64, 81, 100]. Write one line of Python that takes this list a and makes a new list that has only the even elements of this list in it."
   ]
  },
  {
   "cell_type": "code",
   "execution_count": null,
   "metadata": {
    "collapsed": true
   },
   "outputs": [],
   "source": [
    "#This code takes a list and returns only the even numbers.\n",
    "a = [1, 4, 9, 16, 25, 36, 49, 64, 81, 100]\n",
    "\n",
    "evennumbers = [element for element in a if element % 2 == 0]\n",
    "\n",
    "print(evennumbers)"
   ]
  },
  {
   "cell_type": "markdown",
   "metadata": {},
   "source": [
    "Source: http://www.practicepython.org/exercise/2014/03/26/08-rock-paper-scissors.html\n",
    "\n",
    "Question: \n",
    "\n",
    "Exercise 8 (and Solution)\n",
    "\n",
    "Make a two-player Rock-Paper-Scissors game. (Hint: Ask for player plays (using input), compare them, print out a message of congratulations to the winner, and ask if the players want to start a new game)\n",
    "\n",
    "Remember the rules:\n",
    "\n",
    "    Rock beats scissors\n",
    "    Scissors beats paper\n",
    "    Paper beats rock\n",
    "\n",
    "Concepts for this week:\n",
    "\n",
    "    While loops\n",
    "    Infinite loops\n",
    "    Break statements"
   ]
  },
  {
   "cell_type": "code",
   "execution_count": null,
   "metadata": {
    "collapsed": true
   },
   "outputs": [],
   "source": [
    "#This code plays a game of rock, paper, scissors, and asks each player to play a hand.\n",
    "print(\"Let's play Rock / Paper / Scissors.  Remember: Rock beats Scissors; Scissors beats Paper; Paper beats Rock!\")\n",
    "while True:\n",
    "\n",
    "    player1hand = input(\"Player1, Rock / Paper / Scissors?\")\n",
    "    player2hand = input(\"Player2, Rock / Paper / Scissors?\")\n",
    "\n",
    "    if player1hand == player2hand:\n",
    "        print(\"The game ends in a tie.\")\n",
    "    \n",
    "    elif player1hand == \"Rock\":\n",
    "        if player2hand == \"Scissors\":\n",
    "            print(\"Player1 wins!\")\n",
    "        else:\n",
    "            print(\"Player2 wins!\")\n",
    "\n",
    "    elif player1hand == \"Scissors\":\n",
    "        if player2hand == \"Paper\":\n",
    "            print(\"Player1 wins!\")\n",
    "        else:\n",
    "            print(\"Player2 wins!\")\n",
    "                \n",
    "    elif player1hand == \"Paper\":\n",
    "        if player2hand == \"Rock\":\n",
    "            print(\"Player1 wins!\")\n",
    "        else:\n",
    "            print(\"Player2 wins!\")\n",
    "                                  \n",
    "    break"
   ]
  },
  {
   "cell_type": "markdown",
   "metadata": {},
   "source": [
    "Source: http://www.practicepython.org/exercise/2014/04/02/09-guessing-game-one.html\n",
    "\n",
    "Question: \n",
    "\n",
    "Exercise 9 (and Solution)\n",
    "\n",
    "Generate a random number between 1 and 9 (including 1 and 9). Ask the user to guess the number, then tell them whether they guessed too low, too high, or exactly right. (Hint: remember to use the user input lessons from the very first exercise)\n",
    "\n",
    "Extras:\n",
    "\n",
    "    Keep the game going until the user types “exit”\n",
    "    Keep track of how many guesses the user has taken, and when the game ends, print this out."
   ]
  },
  {
   "cell_type": "code",
   "execution_count": 15,
   "metadata": {},
   "outputs": [
    {
     "name": "stdout",
     "output_type": "stream",
     "text": [
      "Guess the number generated.5\n",
      "Too little! Guess again!\n",
      "Guess the number generated.7\n",
      "Too high! Guess again!\n",
      "Guess the number generated.6\n",
      "You got the number!\n",
      "You took  2 guesses to arrive at the answer!\n"
     ]
    }
   ],
   "source": [
    "#This code generates a random number, then asks the user to guess the number.  Will let user know if guess is too low, high, or exactly right.  Keeps track of guesses\n",
    "#User can type \"exit\" to exit.\n",
    "import random\n",
    "a = random.randint(1,10)\n",
    "guesses = 0\n",
    "\n",
    "while True:\n",
    "    \n",
    "    playerguess = int(input(\"Guess the number generated.\"))\n",
    "    \n",
    "    if playerguess == a:\n",
    "        print(\"You got the number!\")\n",
    "        print(\"You took \", guesses, \"guesses to arrive at the answer!\")\n",
    "        break\n",
    "        \n",
    "    elif playerguess < a:\n",
    "        print(\"Too little! Guess again!\")\n",
    "        guesses = guesses + 1\n",
    "        \n",
    "    elif playerguess > a: \n",
    "        print(\"Too high! Guess again!\")\n",
    "        guesses = guesses + 1\n",
    "\n",
    "    elif playerguess == \"exit\":\n",
    "        break\n",
    "        \n",
    "    else:\n",
    "        print(\"Not a number!  Guess again!\")\n",
    "        "
   ]
  },
  {
   "cell_type": "markdown",
   "metadata": {},
   "source": [
    "Source: http://www.practicepython.org/exercise/2014/04/10/10-list-overlap-comprehensions.html\n",
    "\n",
    "Question: \n",
    "\n",
    " List Overlap Comprehensions\n",
    "Exercise 10 (and Solution)\n",
    "\n",
    "This week’s exercise is going to be revisiting an old exercise (see Exercise 5), except require the solution in a different way.\n",
    "\n",
    "Take two lists, say for example these two:\n",
    "\n",
    "\ta = [1, 1, 2, 3, 5, 8, 13, 21, 34, 55, 89]\n",
    "\tb = [1, 2, 3, 4, 5, 6, 7, 8, 9, 10, 11, 12, 13]\n",
    "\n",
    "and write a program that returns a list that contains only the elements that are common between the lists (without duplicates). Make sure your program works on two lists of different sizes. Write this in one line of Python using at least one list comprehension. (Hint: Remember list comprehensions from Exercise 7).\n",
    "\n",
    "The original formulation of this exercise said to write the solution using one line of Python, but a few readers pointed out that this was impossible to do without using sets that I had not yet discussed on the blog, so you can either choose to use the original directive and read about the set command in Python 3.3, or try to implement this on your own and use at least one list comprehension in the solution.\n",
    "\n",
    "Extra:\n",
    "\n",
    "    Randomly generate two lists to test this"
   ]
  },
  {
   "cell_type": "code",
   "execution_count": null,
   "metadata": {
    "collapsed": true
   },
   "outputs": [],
   "source": [
    "#This code returns a list that contains only the elements in common between two other lists.\n",
    "\n",
    "#Return common elements using multiple list comprehensions (i.e., NOT sets).\n",
    "a = [1, 1, 2, 3, 5, 8, 13, 21, 34, 55, 89]\n",
    "b = [1, 2, 3, 4, 5, 6, 7, 8, 9, 10, 11, 12, 13]\n",
    "\n",
    "intersect_ab = [whatsup for whatsup in a if whatsup in b]\n",
    "intersect_ab_second = [element for element in b if element in intersect_ab]\n",
    "\n",
    "print(\"First set is\", a)\n",
    "print(\"Second set is\", b)\n",
    "print(\"The common elements are\", intersect_cd_second)\n",
    "\n",
    "#Randomly generate two lists and look for common elements\n",
    "import random\n",
    "c = random.sample(range(50),15)\n",
    "d = random.sample(range(50),15)\n",
    "\n",
    "print(\"First set is\", c)\n",
    "print(\"Second set is\", d)\n",
    "\n",
    "intersect_cd = [element for element in c if element in d]\n",
    "intersect_cd_second = [element for element in c if element in intersect_cd]\n",
    "\n",
    "print(\"The common elements are\", intersect_cd_second)"
   ]
  },
  {
   "cell_type": "markdown",
   "metadata": {},
   "source": [
    "Source: http://www.practicepython.org/exercise/2014/04/16/11-check-primality-functions.html\n",
    "\n",
    "Question: \n",
    "\n",
    "Check Primality Functions\n",
    "Exercise 11 (and Solution)\n",
    "\n",
    "Ask the user for a number and determine whether the number is prime or not. (For those who have forgotten, a prime number is a number that has no divisors.). You can (and should!) use your answer to Exercise 4 to help you. Take this opportunity to practice using functions, described below.\n",
    "\n",
    "Concepts for this week:\n",
    "\n",
    "    Functions\n",
    "    Reusable functions\n",
    "    Default arguments\n",
    "\n",
    "Examples of function:"
   ]
  },
  {
   "cell_type": "code",
   "execution_count": null,
   "metadata": {
    "collapsed": true
   },
   "outputs": [],
   "source": [
    "#An example function that 1) takes a \"help_text\" parameter to help with readability, 2) uses default arguments to increase\n",
    "#flexibility of use.\n",
    "\n",
    "def get_integer(help_text=\"Give me a number: \"):\n",
    "    return int(input(help_text))\n",
    "\n",
    "age = get_integer(\"What is your age?\")\n",
    "school_year = get_integer(\"What grade are you in?\")\n",
    "if age > 15:\n",
    "    print(\"Your age is greater than 15.\")\n",
    "print(\"You are in grade\" + str(school_year))"
   ]
  },
  {
   "cell_type": "markdown",
   "metadata": {},
   "source": [
    "End example"
   ]
  },
  {
   "cell_type": "markdown",
   "metadata": {},
   "source": [
    "Returning to example 11"
   ]
  },
  {
   "cell_type": "code",
   "execution_count": 11,
   "metadata": {},
   "outputs": [
    {
     "name": "stdout",
     "output_type": "stream",
     "text": [
      "Enter number, and I will tell you its divisors.23\n",
      "I have searched through potential divisors 1-50.  You may have discovered a prime number, my friend!\n"
     ]
    }
   ],
   "source": [
    "#Now back to the show: a function that helps you determine whether the number is prime or not.  \n",
    "number = int(input(\"Enter number, and I will tell you its divisors.\"))\n",
    "divisor_range = range(1, 50)\n",
    "legit_divisors = [divisor for divisor in divisor_range if number % divisor == 0]\n",
    "prime_divisors = [1, number]\n",
    "\n",
    "if legit_divisors == prime_divisors:\n",
    "    print(\"I have searched through potential divisors 1-50.  You may have discovered a prime number, my friend!\")\n",
    "else:\n",
    "    print(\"Based on the range of potential divisors 1-50, your number is not prime.  The full list of divisors for this number is:\", legit_divisors)"
   ]
  },
  {
   "cell_type": "markdown",
   "metadata": {},
   "source": [
    "Source: http://www.practicepython.org/exercise/2014/04/25/12-list-ends.html\n",
    "\n",
    "Question:\n",
    "\n",
    "Exercise 12 (and Solution)\n",
    "\n",
    "Write a program that takes a list of numbers (for example, a = [5, 10, 15, 20, 25]) and makes a new list of only the first and last elements of the given list. For practice, write this code inside a function.\n",
    "Concepts to practice\n",
    "\n",
    "    Lists and properties of lists\n",
    "    List comprehensions (maybe)\n",
    "    Functions"
   ]
  },
  {
   "cell_type": "code",
   "execution_count": 2,
   "metadata": {},
   "outputs": [
    {
     "name": "stdout",
     "output_type": "stream",
     "text": [
      "The first and last elements of your list are:  [5, 20]\n",
      "None\n"
     ]
    }
   ],
   "source": [
    "#This program takes a list of numbers and makes a new list of only the first and last elements of the given list.\n",
    "\n",
    "#a = [5, 10, 15, 20, 25]\n",
    "\n",
    "def first_last_elements(a = [5, 10, 15, 20]):\n",
    "    first_last = [a[0], a[-1]]\n",
    "    print(\"The first and last elements of your list are: \", first_last)\n",
    "\n",
    "b = first_last_elements()\n",
    "print(b)"
   ]
  },
  {
   "cell_type": "markdown",
   "metadata": {},
   "source": [
    "Source: http://www.practicepython.org/exercise/2014/04/30/13-fibonacci.html\n",
    "\n",
    "Question:\n",
    "\n",
    "Exercise 13 (and Solution)\n",
    "\n",
    "Write a program that asks the user how many Fibonacci numbers to generate and then generates them. Take this opportunity to think about how you can use functions. Make sure to ask the user to enter the number of numbers in the sequence to generate.(Hint: The Fibonnaci seqence is a sequence of numbers where the next number in the sequence is the sum of the previous two numbers in the sequence. The sequence looks like this: 1, 1, 2, 3, 5, 8, 13, …)"
   ]
  },
  {
   "cell_type": "code",
   "execution_count": 34,
   "metadata": {},
   "outputs": [
    {
     "name": "stdout",
     "output_type": "stream",
     "text": [
      "Tell me how many Fibonacci elements you want to generate.5\n",
      "2\n",
      "[1, 1, 2]\n",
      "3\n",
      "[1, 1, 2, 3]\n",
      "5\n",
      "[1, 1, 2, 3, 5]\n",
      "8\n",
      "[1, 1, 2, 3, 5, 8]\n",
      "13\n",
      "[1, 1, 2, 3, 5, 8, 13]\n",
      "The entire Fibonacci sequence is None\n"
     ]
    }
   ],
   "source": [
    "#This program askes the user how many Fibonacci numbers to generate, then generates them. \n",
    "\n",
    "fibonacciPrint = []\n",
    "\n",
    "def fibonacciGenerate(sequencelength, fibonacciList, element1 = 1, element2 = 1):\n",
    "  \n",
    "    for x in range(sequencelength):\n",
    "        nextterm = element1 + element2\n",
    "        print(nextterm)\n",
    "        \n",
    "        fibonacciList.append(nextterm)\n",
    "        print(fibonacciList)\n",
    "        \n",
    "        element1 = element2\n",
    "        element2 = nextterm\n",
    "    \n",
    "    fibonacciPrint = fibonacciList\n",
    "    \n",
    "sequencelength = int(input(\"Tell me how many Fibonacci elements you want to generate.\"))\n",
    "fibonacciPrint = fibonacciGenerate(sequencelength, fibonacciList = [1, 1])\n",
    "print(\"The entire Fibonacci sequence is\", fibonacciPrint)\n"
   ]
  }
 ],
 "metadata": {
  "kernelspec": {
   "display_name": "Python 3",
   "language": "python",
   "name": "python3"
  },
  "language_info": {
   "codemirror_mode": {
    "name": "ipython",
    "version": 3
   },
   "file_extension": ".py",
   "mimetype": "text/x-python",
   "name": "python",
   "nbconvert_exporter": "python",
   "pygments_lexer": "ipython3",
   "version": "3.6.5"
  }
 },
 "nbformat": 4,
 "nbformat_minor": 2
}
