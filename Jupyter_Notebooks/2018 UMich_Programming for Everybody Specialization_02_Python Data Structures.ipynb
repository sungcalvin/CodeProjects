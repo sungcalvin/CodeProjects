{
 "cells": [
  {
   "cell_type": "markdown",
   "metadata": {},
   "source": [
    "This is a Jupyter notebook for learning the Coursera \"Programming for Everybody (Getting Started with Python)\" UMich course. This is Course 2 in the Programming for Everybody Specialization.\n",
    "\n",
    "Course website: https://www.coursera.org/learn/python"
   ]
  },
  {
   "cell_type": "markdown",
   "metadata": {},
   "source": [
    "Start Date: 8/11/2018\n",
    "End Date: 8/23/2018"
   ]
  },
  {
   "cell_type": "markdown",
   "metadata": {},
   "source": [
    "The professor of this course, Chuck Saverance, has a website for his book: \"Python for Everybody\".\n",
    "\n",
    "Link available here: https://www.py4e.com/\n",
    "\n",
    "You can download all of the sample Python code from the book as well as licensed course materials from http://www.py4e.com/materials.\n",
    "\n",
    "This course is in Python 3 and the textbook for this class is in Python 3. Prior to July 2017, this course was taught in Python 2 with the textbook \"Python for Informatics: Exploring Information\". This earlier Python 2 book has translations into Spanish, Korean, and Chinese. The Python 2 book and its translations are still available at the www.pythonlearn.com web site.\n",
    "\n",
    "All of the book materials are available under a Creative Commons Attribution-NonCommercial 3.0 Unported License. The slides, audio, assignments, auto grader and all course materials other than the book are available from http://www.py4e.com/materials under the more flexible Creative Commons Attribution 3.0 Unported License. If you are curious as to why the \"NC\" variant of Creative Commons was used, see Appendix D of the textbook or search through my blog posts for the string \"copyright\"."
   ]
  },
  {
   "cell_type": "markdown",
   "metadata": {},
   "source": [
    "# Chapter 6: Strings"
   ]
  },
  {
   "cell_type": "markdown",
   "metadata": {},
   "source": [
    "We can get at any single character in a string using an index specified in square brackets.\n",
    "\n",
    "The index value must be an integer and start at zero.\n",
    "\n",
    "The index value can be an expression that is computed."
   ]
  },
  {
   "cell_type": "code",
   "execution_count": 2,
   "metadata": {},
   "outputs": [
    {
     "name": "stdout",
     "output_type": "stream",
     "text": [
      "a\n",
      "n\n",
      "b\n"
     ]
    }
   ],
   "source": [
    "fruit = 'banana'\n",
    "letter = fruit[1]\n",
    "print(letter)\n",
    "\n",
    "x = 3 \n",
    "w = fruit[x - 1]\n",
    "print(w)"
   ]
  },
  {
   "cell_type": "markdown",
   "metadata": {},
   "source": [
    "Making an index out of range mistake"
   ]
  },
  {
   "cell_type": "code",
   "execution_count": null,
   "metadata": {
    "collapsed": true
   },
   "outputs": [],
   "source": [
    "zot = 'abc'\n",
    "print(zot[5])"
   ]
  },
  {
   "cell_type": "markdown",
   "metadata": {},
   "source": [
    "Strings have length.  The built-in len function gives us the string length."
   ]
  },
  {
   "cell_type": "code",
   "execution_count": null,
   "metadata": {
    "collapsed": true
   },
   "outputs": [],
   "source": [
    "fruit = 'banana'\n",
    "x = len(fruit)\n",
    "x"
   ]
  },
  {
   "cell_type": "markdown",
   "metadata": {},
   "source": [
    "Using a while statement, an iteration variable, and the len function, we can construct a loop to look at each of the letters in a string individually."
   ]
  },
  {
   "cell_type": "code",
   "execution_count": 7,
   "metadata": {},
   "outputs": [
    {
     "name": "stdout",
     "output_type": "stream",
     "text": [
      "0 b\n",
      "1 a\n",
      "2 n\n",
      "3 a\n",
      "4 n\n",
      "5 a\n"
     ]
    }
   ],
   "source": [
    "fruit = 'banana'\n",
    "index = 0\n",
    "while index < len(fruit):\n",
    "    letter = fruit[index]\n",
    "    print(index, letter)\n",
    "    index = index + 1"
   ]
  },
  {
   "cell_type": "markdown",
   "metadata": {},
   "source": [
    "A much easier way to go through the letters -- 1) use a for loop, 2) use letter as iteration variable."
   ]
  },
  {
   "cell_type": "code",
   "execution_count": null,
   "metadata": {
    "collapsed": true
   },
   "outputs": [],
   "source": [
    "fruit = 'banana'\n",
    "for letter in fruit:\n",
    "    print(letter)"
   ]
  },
  {
   "cell_type": "markdown",
   "metadata": {},
   "source": [
    "Slicing Strings"
   ]
  },
  {
   "cell_type": "code",
   "execution_count": null,
   "metadata": {
    "collapsed": true
   },
   "outputs": [],
   "source": [
    "s = 'Monty Python'\n",
    "\n",
    "#Print index 0 up to but not including 4 \n",
    "print(s[0:4])\n",
    "print(s[6:7])\n",
    "print(s[6:20]) #Does not trace back"
   ]
  },
  {
   "cell_type": "markdown",
   "metadata": {},
   "source": [
    "When slicing a string, it is common teave off the first, last, or both numbers of index.  If first or last number of index is left off, Python starts from the beginning or end of string respectively."
   ]
  },
  {
   "cell_type": "code",
   "execution_count": null,
   "metadata": {
    "collapsed": true
   },
   "outputs": [],
   "source": [
    "s = 'Monty Python'\n",
    "\n",
    "print(s[:2])\n",
    "print(s[8:])\n",
    "print(s[:]) "
   ]
  },
  {
   "cell_type": "markdown",
   "metadata": {},
   "source": [
    "The 'in' expression is a logical operator that returns True or False if a string is in another.  It can be used in a if statement, like '=='.  "
   ]
  },
  {
   "cell_type": "code",
   "execution_count": 7,
   "metadata": {},
   "outputs": [
    {
     "name": "stdout",
     "output_type": "stream",
     "text": [
      "True\n",
      "False\n",
      "True\n",
      "Found it!\n"
     ]
    }
   ],
   "source": [
    "fruit = 'banana'\n",
    "print('n' in fruit)\n",
    "print('m' in fruit)\n",
    "print('nan' in fruit)\n",
    "if 'a' in fruit:\n",
    "    print('Found it!')"
   ]
  },
  {
   "cell_type": "markdown",
   "metadata": {},
   "source": [
    "Operators can be used with srings for \"equals\", \"less than\" (two strings being compared), \"greater than\", etc.  Upper cases are worth less than lower cases."
   ]
  },
  {
   "cell_type": "code",
   "execution_count": 4,
   "metadata": {},
   "outputs": [
    {
     "name": "stdout",
     "output_type": "stream",
     "text": [
      "Your word, Yoda, comes before banana.\n"
     ]
    }
   ],
   "source": [
    "#Choose your work wisely.\n",
    "word = 'Yoda'\n",
    "\n",
    "#Print \"I see you, banana.\" if variable word equals 'banana'.\n",
    "if word == 'banana':\n",
    "    print('All right, bananas.')\n",
    "\n",
    "#Print statements based on a string comparison    \n",
    "if word < 'banana':\n",
    "    print('Your word, ' + word + ', comes before banana.')\n",
    "\n",
    "elif word > 'banana':\n",
    "    print('Your word, ' + word + ', comes after banana.')\n",
    "\n",
    "else:\n",
    "    print('All right, banana.')\n",
    "    "
   ]
  },
  {
   "cell_type": "markdown",
   "metadata": {},
   "source": [
    "Methods exist to help with string comparison, as part of string libraries.  Examples: .lower() function to convert string to lower case.\n",
    "\n",
    "You invoke these functions by appending the function to the string variable.  \n",
    "\n",
    "These functions do not modify the original string, instead they return a new string that has been altered."
   ]
  },
  {
   "cell_type": "code",
   "execution_count": null,
   "metadata": {
    "collapsed": true
   },
   "outputs": [],
   "source": [
    "greet = 'Hello Bob'\n",
    "zap = greet.lower()\n",
    "print(zap)\n",
    "print(greet)\n",
    "print('Hi There'.lower())"
   ]
  },
  {
   "cell_type": "markdown",
   "metadata": {},
   "source": [
    "The dir() function answers the question \"What are strings capable of?\""
   ]
  },
  {
   "cell_type": "code",
   "execution_count": null,
   "metadata": {
    "collapsed": true
   },
   "outputs": [],
   "source": [
    "dir(\"What are strings capable of?\")"
   ]
  },
  {
   "cell_type": "markdown",
   "metadata": {},
   "source": [
    "Use the find() function to search for a substring within another string.  find() returns the nth character of the string where the substring first occurs.\n",
    "\n",
    "If the substring is not found, find() returns -1.  Remember that string position starts at zero.\n"
   ]
  },
  {
   "cell_type": "code",
   "execution_count": 18,
   "metadata": {},
   "outputs": [
    {
     "name": "stdout",
     "output_type": "stream",
     "text": [
      "2\n",
      "-1\n"
     ]
    }
   ],
   "source": [
    "fruit = 'banana'\n",
    "pos = fruit.find('na')\n",
    "print(pos)\n",
    "aa = fruit.find('z')\n",
    "print(aa)"
   ]
  },
  {
   "cell_type": "markdown",
   "metadata": {},
   "source": [
    "The replace() function is like a \"search and replace\" operation in a word processor.  It replaces all occurrences of the search string with the replacement string."
   ]
  },
  {
   "cell_type": "code",
   "execution_count": null,
   "metadata": {
    "collapsed": true
   },
   "outputs": [],
   "source": [
    "greet = 'Hello Bob'\n",
    "nstr = greet.replace('Bob', 'Jane')\n",
    "print(nstr)\n",
    "nstr = greet.replace('o', 'X')\n",
    "print(nstr)"
   ]
  },
  {
   "cell_type": "markdown",
   "metadata": {},
   "source": [
    "lstrip() and rstrip() remove whitespace at the left or right.  strip() removes both beginning and ending whitespace."
   ]
  },
  {
   "cell_type": "code",
   "execution_count": null,
   "metadata": {
    "collapsed": true
   },
   "outputs": [],
   "source": [
    "greet = '   Hello Bob   '\n",
    "print(greet.lstrip())\n",
    "print(greet.rstrip())\n",
    "print(greet.strip())"
   ]
  },
  {
   "cell_type": "markdown",
   "metadata": {},
   "source": [
    ".find() finds the index of the occurence"
   ]
  },
  {
   "cell_type": "markdown",
   "metadata": {},
   "source": [
    "startswith() returns a boolean as to whether a string starts with a substring."
   ]
  },
  {
   "cell_type": "markdown",
   "metadata": {},
   "source": [
    "All strings in Python 3 are in Unicode."
   ]
  },
  {
   "cell_type": "markdown",
   "metadata": {},
   "source": [
    "## Chapter 7: Files"
   ]
  },
  {
   "cell_type": "markdown",
   "metadata": {},
   "source": [
    "Before we read the contents of a file, we must tell Python which file to \"open\", or work with, and what we will be doing with the file.\n",
    "\n",
    "Use open() function to tell Python which file we will work with.  \n",
    "\n",
    "Open() returns a \"file handle\" -- a variable used to perform operations on the file.  (Similar to \"File - > Open\" in a Word Processor.)\n",
    "\n",
    "Example:\n",
    "handle = open(filename, mode)\n",
    "\n",
    "mode: optional parameter and should be 'r' if we are trying to read contents\n"
   ]
  },
  {
   "cell_type": "markdown",
   "metadata": {},
   "source": [
    "\"\\n\" is a newline, and a single character in a string that causes a new line to be printed.  \n",
    "\n",
    "A text file has newlines at the end of each line."
   ]
  },
  {
   "cell_type": "markdown",
   "metadata": {},
   "source": [
    "Reading in a file: A file handle open for read can be treated as a sequence of strings where each line in the file is a string in the sequence.\n",
    "\n",
    "We can use the for statement to iterate through a sequence.\n",
    "\n",
    "Remember -- a sequence is an ordered set.  Example:"
   ]
  },
  {
   "cell_type": "code",
   "execution_count": null,
   "metadata": {
    "collapsed": true
   },
   "outputs": [],
   "source": [
    "#NOTE: Text file not available; code will not run\n",
    "xfile = open('mbox.txt')\n",
    "for cheese in xfile:  \n",
    "    print(cheese)\n",
    "    \n",
    "#NOTE: xfile is recognized by the for loop as a sequence of lines"
   ]
  },
  {
   "cell_type": "markdown",
   "metadata": {},
   "source": [
    "Counting lines in a file."
   ]
  },
  {
   "cell_type": "code",
   "execution_count": null,
   "metadata": {
    "collapsed": true
   },
   "outputs": [],
   "source": [
    "#NOTE: Text file not available; code will not run\n",
    "fhand = open('mbox.txt')\n",
    "count = 0\n",
    "for line in fhand:\n",
    "    count = count + 1\n",
    "print('Line Count:', count)"
   ]
  },
  {
   "cell_type": "markdown",
   "metadata": {},
   "source": [
    "Reading the whole file -- use .read() method.  NOTE, however, that it does not split into new lines."
   ]
  },
  {
   "cell_type": "code",
   "execution_count": null,
   "metadata": {
    "collapsed": true
   },
   "outputs": [],
   "source": [
    "#NOTE: Text file not available; code will not run\n",
    "fhand = open('mbox-short.txt')\n",
    "inp = fhand.read()  #This reads into a single string.\n",
    "print(len(inp))\n",
    "print(inp[:20])\n"
   ]
  },
  {
   "cell_type": "markdown",
   "metadata": {},
   "source": [
    "We can put an if statement in our for loop to only print lines that meet some criteria."
   ]
  },
  {
   "cell_type": "code",
   "execution_count": null,
   "metadata": {
    "collapsed": true
   },
   "outputs": [],
   "source": [
    "#NOTE: Text file not available; code will not run\n",
    "fhand = open('mbox-short.txt')\n",
    "for line in fhand:\n",
    "    if line.startswith('From:'):\n",
    "        print(line)"
   ]
  },
  {
   "cell_type": "markdown",
   "metadata": {},
   "source": [
    "We can strip the whitespace from the right-hand side of the string using rstrip() from the string library.  THe newline is considered whitespace and stripped."
   ]
  },
  {
   "cell_type": "code",
   "execution_count": null,
   "metadata": {
    "collapsed": true
   },
   "outputs": [],
   "source": [
    "#NOTE: Text file not available; code will not run\n",
    "fhand = open('mbox-short.txt')\n",
    "for line in fhand:\n",
    "    line = line.rstrip()\n",
    "    if line.startswith('From:'):\n",
    "        print(line)"
   ]
  },
  {
   "cell_type": "markdown",
   "metadata": {},
   "source": [
    "We can conveniently skip a line by using the \"continue\" statement."
   ]
  },
  {
   "cell_type": "code",
   "execution_count": null,
   "metadata": {
    "collapsed": true
   },
   "outputs": [],
   "source": [
    "#NOTE: Text file not available; code will not run\n",
    "fhand = open('mbox-short.txt')\n",
    "for line in fhand:\n",
    "    line = line.rstrip()\n",
    "    if not line.startswith('From:'):  #Noticed switched to \"if not\" logic\n",
    "            continue #Skips next lines thru end of block. \n",
    "        print(line)"
   ]
  },
  {
   "cell_type": "markdown",
   "metadata": {},
   "source": [
    "If a user types a bad filename, it's very easy for a program to blow up.  Here's one workaround with 'try / except' blocks:"
   ]
  },
  {
   "cell_type": "code",
   "execution_count": null,
   "metadata": {
    "collapsed": true
   },
   "outputs": [],
   "source": [
    "fname = input('Enter the file name: ')\n",
    "try: \n",
    "    fhand = open(fname)\n",
    "except:\n",
    "    print('File cannot be opened:', fname)\n",
    "    quit()\n",
    "\n",
    "count = 0\n",
    "line in fhand:\n",
    "    if line.startswith('Subject'):\n",
    "    count = count + 1\n",
    "    "
   ]
  },
  {
   "cell_type": "markdown",
   "metadata": {},
   "source": [
    "##Chapter 8: Lists"
   ]
  },
  {
   "cell_type": "markdown",
   "metadata": {},
   "source": [
    "Data structures to this point have been simple variables."
   ]
  },
  {
   "cell_type": "markdown",
   "metadata": {},
   "source": [
    "Algorithms: A set of rules or steps used to solve a problem\n",
    "Data structures: A particular way of organizing data in a computer"
   ]
  },
  {
   "cell_type": "markdown",
   "metadata": {},
   "source": [
    " Collections vs Not a collection\n",
    " \n",
    " Lists are collections\n",
    "  "
   ]
  },
  {
   "cell_type": "code",
   "execution_count": null,
   "metadata": {
    "collapsed": true
   },
   "outputs": [],
   "source": [
    "#An example List.\n",
    "friends = [ ' Joseph', 'Glenn', 'Sally']"
   ]
  },
  {
   "cell_type": "markdown",
   "metadata": {},
   "source": [
    "A list element can be any other Python object -- even another list.  List elements don't have to be the same type."
   ]
  },
  {
   "cell_type": "code",
   "execution_count": null,
   "metadata": {
    "collapsed": true
   },
   "outputs": [],
   "source": [
    "print([1, [5, 6], 7])"
   ]
  },
  {
   "cell_type": "markdown",
   "metadata": {},
   "source": [
    "These next two blocks are the exact same code -- note that the name of the index variable for the loop and the  as well as the collection itself."
   ]
  },
  {
   "cell_type": "code",
   "execution_count": 3,
   "metadata": {},
   "outputs": [
    {
     "name": "stdout",
     "output_type": "stream",
     "text": [
      "Happy New Year: Joseph\n",
      "Happy New Year: Glenn\n",
      "Happy New Year: Sally\n",
      "Done!\n"
     ]
    }
   ],
   "source": [
    "friends = ['Joseph', 'Glenn', 'Sally']\n",
    "for friend in friends:\n",
    "    print('Happy New Year:', friend)\n",
    "print('Done!')  "
   ]
  },
  {
   "cell_type": "code",
   "execution_count": null,
   "metadata": {
    "collapsed": true
   },
   "outputs": [],
   "source": [
    "z = ['Joseph', 'Glenn', 'Sally']\n",
    "for x in z:\n",
    "    print('Happy New Year:', x)\n",
    "print('Done!')"
   ]
  },
  {
   "cell_type": "markdown",
   "metadata": {},
   "source": [
    "Just like strings, we can get at any single element in a list using an index specified in square brackets."
   ]
  },
  {
   "cell_type": "code",
   "execution_count": null,
   "metadata": {
    "collapsed": true
   },
   "outputs": [],
   "source": [
    "z = ['Joseph', 'Glenn', 'Sally']\n",
    "print(z[0])\n",
    "print(z[1])\n",
    "print(z[2])"
   ]
  },
  {
   "cell_type": "markdown",
   "metadata": {
    "collapsed": true
   },
   "source": [
    "Lists are mutable.  We can change an element of a list using the index operator.\n",
    "Strings are not mutable.  We must make a new string to make any change."
   ]
  },
  {
   "cell_type": "code",
   "execution_count": null,
   "metadata": {
    "collapsed": true
   },
   "outputs": [],
   "source": [
    "#Strings are not mutable.  This throws an error.\n",
    "fruit = 'banana'\n",
    "fruit[0] = 'b'\n",
    "\n",
    "#Lists are mutable.\n",
    "lotto = [2, 14, 26, 41, 63]\n",
    "lotto[2] = 28\n",
    "print(lotto)"
   ]
  },
  {
   "cell_type": "markdown",
   "metadata": {},
   "source": [
    "Methods on strings make a copy of a string, and do not edit the original string."
   ]
  },
  {
   "cell_type": "code",
   "execution_count": null,
   "metadata": {
    "collapsed": true
   },
   "outputs": [],
   "source": [
    "fruit = 'Banana'\n",
    "x = fruit.lower()\n",
    "print(x)"
   ]
  },
  {
   "cell_type": "markdown",
   "metadata": {},
   "source": [
    "Lists have several important methods.\n",
    "\n",
    "len() takes a list as a parameter and returns the number of elements in the list\n"
   ]
  },
  {
   "cell_type": "code",
   "execution_count": null,
   "metadata": {
    "collapsed": true
   },
   "outputs": [],
   "source": [
    "x = [1, 2, [2, 3], 99]\n",
    "print(len(x))"
   ]
  },
  {
   "cell_type": "markdown",
   "metadata": {},
   "source": [
    "len() actually tells us the number of elements of any set or sequence"
   ]
  },
  {
   "cell_type": "code",
   "execution_count": 8,
   "metadata": {},
   "outputs": [
    {
     "name": "stdout",
     "output_type": "stream",
     "text": [
      "9\n"
     ]
    }
   ],
   "source": [
    "greet = 'Hello Bob'\n",
    "print(len(greet))"
   ]
  },
  {
   "cell_type": "markdown",
   "metadata": {},
   "source": [
    "The range(parameter) function returns a list of numbers that range from zero to one less than the parameter.\n"
   ]
  },
  {
   "cell_type": "code",
   "execution_count": null,
   "metadata": {
    "collapsed": true
   },
   "outputs": [],
   "source": [
    "print(range(4))\n",
    "\n",
    "friends = ['Joseph', 'Glenn', 'Sally']\n",
    "print(len(friends))\n",
    "print(range(len(friends)))"
   ]
  },
  {
   "cell_type": "markdown",
   "metadata": {},
   "source": [
    "We can construct an index loop using for and an integer iterator."
   ]
  },
  {
   "cell_type": "code",
   "execution_count": null,
   "metadata": {
    "collapsed": true
   },
   "outputs": [],
   "source": [
    "friends = ['Joseph', 'Glenn', 'Sally']\n",
    "\n",
    "for friend in friends:\n",
    "    print('Happy New Year:', friend)\n",
    "\n",
    "for i in range(len(friends)):\n",
    "    friend = friends[i]\n",
    "    print('Happy New Year:', friend)"
   ]
  },
  {
   "cell_type": "markdown",
   "metadata": {},
   "source": [
    "Manipulating lists"
   ]
  },
  {
   "cell_type": "markdown",
   "metadata": {},
   "source": [
    "Lists can be concatenated using \"+\""
   ]
  },
  {
   "cell_type": "code",
   "execution_count": 17,
   "metadata": {},
   "outputs": [
    {
     "name": "stdout",
     "output_type": "stream",
     "text": [
      "[1, 2, 3, 4, 5, 6]\n",
      "[1, 2, 3]\n"
     ]
    }
   ],
   "source": [
    "a = [1, 2, 3]\n",
    "b = [4, 5, 6]\n",
    "c = a + b\n",
    "print(c)\n",
    "print(a)"
   ]
  },
  {
   "cell_type": "markdown",
   "metadata": {},
   "source": [
    "Lists can be sliced using \":\".  Remember, just like in strings, the second number is \"up to but not including\"."
   ]
  },
  {
   "cell_type": "code",
   "execution_count": 26,
   "metadata": {
    "scrolled": true
   },
   "outputs": [
    {
     "name": "stdout",
     "output_type": "stream",
     "text": [
      "[41, 12]\n",
      "[9, 41, 12, 3]\n",
      "[3, 74, 15]\n",
      "[9, 41, 12, 3, 74, 15]\n"
     ]
    }
   ],
   "source": [
    "t = [9, 41, 12, 3, 74, 15]\n",
    "print(t[1:3])\n",
    "print(t[:4])\n",
    "print(t[3:])\n",
    "print(t[:])"
   ]
  },
  {
   "cell_type": "markdown",
   "metadata": {},
   "source": [
    "List methods:\n",
    "\n",
    "-dir() provides a list of available methods for the object in question"
   ]
  },
  {
   "cell_type": "code",
   "execution_count": null,
   "metadata": {
    "collapsed": true
   },
   "outputs": [],
   "source": [
    "x = list()\n",
    "print(type(x))\n",
    "print(dir(x))"
   ]
  },
  {
   "cell_type": "markdown",
   "metadata": {},
   "source": [
    "You can create an empty list and then add elements using the append() method.  The list stays in order and new elements are added at the end of the list."
   ]
  },
  {
   "cell_type": "code",
   "execution_count": null,
   "metadata": {
    "collapsed": true
   },
   "outputs": [],
   "source": [
    "stuff = list()\n",
    "stuff.append('book')\n",
    "stuff.append(99)\n",
    "print(stuff)\n",
    "\n",
    "stuff.append('cookie')\n",
    "print(stuff)"
   ]
  },
  {
   "cell_type": "markdown",
   "metadata": {},
   "source": [
    "Can use the \"in\" and \"not in\" operators"
   ]
  },
  {
   "cell_type": "code",
   "execution_count": null,
   "metadata": {
    "collapsed": true
   },
   "outputs": [],
   "source": [
    "some = [1, 9, 21, 10, 16]\n",
    "print(9 in some)\n",
    "print(15 in some)"
   ]
  },
  {
   "cell_type": "markdown",
   "metadata": {},
   "source": [
    "A list can be sorted with the sort() method.  Default is alphabetical. (?)"
   ]
  },
  {
   "cell_type": "code",
   "execution_count": 42,
   "metadata": {},
   "outputs": [
    {
     "name": "stdout",
     "output_type": "stream",
     "text": [
      "['Glenn', 'Joseph', 'Sally']\n",
      "Joseph\n"
     ]
    }
   ],
   "source": [
    "friends = ['Joseph', 'Glenn', 'Sally']\n",
    "friends.sort()\n",
    "print(friends)\n",
    "print(friends[1])"
   ]
  },
  {
   "cell_type": "code",
   "execution_count": null,
   "metadata": {
    "collapsed": true
   },
   "outputs": [],
   "source": [
    "nums = [3, 41, 12, 9, 74, 15]\n",
    "print(len(nums))\n",
    "print(max(nums))\n",
    "print(min(nums))\n",
    "print(sum(nums))\n",
    "print(sum(nums) / len(nums))"
   ]
  },
  {
   "cell_type": "markdown",
   "metadata": {},
   "source": [
    "Code to take an average of a list, as long as you input values.  Exit while loop by typing 'done'."
   ]
  },
  {
   "cell_type": "code",
   "execution_count": null,
   "metadata": {
    "collapsed": true
   },
   "outputs": [],
   "source": [
    "numlist = list()\n",
    "while True:\n",
    "    inp = input('Enter a number: ')\n",
    "    if inp == 'done' : break\n",
    "    value = float(inp)\n",
    "    numlist.append(value)\n",
    "\n",
    "    average = sum(numlist) / len(numlist)\n",
    "    print('Average: ', average)\n",
    "    "
   ]
  },
  {
   "cell_type": "markdown",
   "metadata": {},
   "source": [
    "Connecting lists and strings"
   ]
  },
  {
   "cell_type": "markdown",
   "metadata": {},
   "source": [
    "The split() function takes a string, and gives us back a list.  A very popular function.\n",
    "\n",
    "NOTE: If a string contains spaces, list elements are broken up by space.  (I.e., The natural delimiter is a space.)"
   ]
  },
  {
   "cell_type": "code",
   "execution_count": null,
   "metadata": {
    "collapsed": true
   },
   "outputs": [],
   "source": [
    "abc = 'With three words'\n",
    "stuff = abc.split()\n",
    "print(stuff)\n",
    "\n",
    "print(len(stuff))  #Returns the number of items in list!\n",
    "print(len(abc)) #Returns the number of elements in string!\n",
    "\n",
    "print(stuff[0])"
   ]
  },
  {
   "cell_type": "markdown",
   "metadata": {},
   "source": [
    "When you do not specify a delimiter, multiple spaces are treated like one delimiter.\n",
    "\n",
    "You can specify what delimiter to use in the splitting."
   ]
  },
  {
   "cell_type": "code",
   "execution_count": null,
   "metadata": {
    "collapsed": true
   },
   "outputs": [],
   "source": [
    "line = 'A lot of          spaces.'\n",
    "etc = line.split()\n",
    "print(etc)\n",
    "\n",
    "line = 'first;second;third'\n",
    "thing = line.split()  \n",
    "print(thing) #Should return 1 element\n",
    "\n",
    "print(len(thing))\n",
    "\n",
    "thing = line.split(';')\n",
    "print(thing) #Should now return 3 elements\n",
    "\n",
    "print(len(thing))"
   ]
  },
  {
   "cell_type": "markdown",
   "metadata": {},
   "source": [
    "## Dictionaries"
   ]
  },
  {
   "cell_type": "markdown",
   "metadata": {},
   "source": [
    "A collection is like a luggage bag: nice because we can put more than one value in it and carry them all around in one convenient package."
   ]
  },
  {
   "cell_type": "markdown",
   "metadata": {},
   "source": [
    "List: a linear collection of values that stay in order\n",
    "Dictionary: A \"bag\" of values, each with its own label\n",
    "\n",
    "Dictaionaries are Python's most powerful data collection\n",
    "\n",
    "Allow us to to fast database-like operations in Python\n",
    "\n",
    "They are alled associative arrays, maps, hashmaps, property bags in other languages. (Perl/Java/C#.NET)"
   ]
  },
  {
   "cell_type": "markdown",
   "metadata": {},
   "source": [
    "One common use of dictionaries is counting how often we \"see\" something.  "
   ]
  },
  {
   "cell_type": "code",
   "execution_count": 4,
   "metadata": {},
   "outputs": [
    {
     "name": "stdout",
     "output_type": "stream",
     "text": [
      "{'csev': 1, 'swen': 1}\n",
      "{'csev': 1, 'swen': 2}\n"
     ]
    }
   ],
   "source": [
    "ccc = dict()\n",
    "ccc['csev'] = 1\n",
    "ccc['swen'] = 1\n",
    "print(ccc)\n",
    "\n",
    "ccc['swen'] = ccc['swen'] + 1\n",
    "print(ccc)\n"
   ]
  },
  {
   "cell_type": "markdown",
   "metadata": {},
   "source": [
    "This program reads a line of text, splits it, and tells you the frequencies of words used."
   ]
  },
  {
   "cell_type": "code",
   "execution_count": null,
   "metadata": {
    "collapsed": true
   },
   "outputs": [],
   "source": [
    "counts = dict()\n",
    "print('Enter a line of text: ')\n",
    "line = input('')\n",
    "\n",
    "words = line.split()\n",
    "\n",
    "print('Words: ', words)\n",
    "\n",
    "print('Counting...')\n",
    "for word in words:\n",
    "    counts[word] = counts.get(word, 0) + 1\n",
    "print('Counts', counts)"
   ]
  },
  {
   "cell_type": "markdown",
   "metadata": {},
   "source": [
    "It is an error to reference a key which is not in the dictionary.  We can use the \"in\" operator to see if a key is in the dictionary."
   ]
  },
  {
   "cell_type": "code",
   "execution_count": 6,
   "metadata": {},
   "outputs": [
    {
     "ename": "KeyError",
     "evalue": "'csev'",
     "output_type": "error",
     "traceback": [
      "\u001b[1;31m---------------------------------------------------------------------------\u001b[0m",
      "\u001b[1;31mKeyError\u001b[0m                                  Traceback (most recent call last)",
      "\u001b[1;32m<ipython-input-6-7eb887336ba1>\u001b[0m in \u001b[0;36m<module>\u001b[1;34m()\u001b[0m\n\u001b[0;32m      1\u001b[0m \u001b[1;31m#The following code returns an error, since the key is not yet in the dict.\u001b[0m\u001b[1;33m\u001b[0m\u001b[1;33m\u001b[0m\u001b[0m\n\u001b[0;32m      2\u001b[0m \u001b[0mccc\u001b[0m \u001b[1;33m=\u001b[0m \u001b[0mdict\u001b[0m\u001b[1;33m(\u001b[0m\u001b[1;33m)\u001b[0m\u001b[1;33m\u001b[0m\u001b[0m\n\u001b[1;32m----> 3\u001b[1;33m \u001b[0mprint\u001b[0m\u001b[1;33m(\u001b[0m\u001b[0mccc\u001b[0m\u001b[1;33m[\u001b[0m\u001b[1;34m'csev'\u001b[0m\u001b[1;33m]\u001b[0m\u001b[1;33m)\u001b[0m\u001b[1;33m\u001b[0m\u001b[0m\n\u001b[0m\u001b[0;32m      4\u001b[0m \u001b[1;33m\u001b[0m\u001b[0m\n\u001b[0;32m      5\u001b[0m \u001b[1;31m#Check whether the key is in a dict beforehand\u001b[0m\u001b[1;33m\u001b[0m\u001b[1;33m\u001b[0m\u001b[0m\n",
      "\u001b[1;31mKeyError\u001b[0m: 'csev'"
     ]
    }
   ],
   "source": [
    "#The following code returns an error, since the key is not yet in the dict.  \n",
    "ccc = dict()\n",
    "print(ccc['csev'])\n",
    "\n"
   ]
  },
  {
   "cell_type": "code",
   "execution_count": null,
   "metadata": {
    "collapsed": true
   },
   "outputs": [],
   "source": [
    "#Check whether the key is in a dict beforehand\n",
    "'csev' in ccc\n",
    "\n"
   ]
  },
  {
   "cell_type": "code",
   "execution_count": null,
   "metadata": {
    "collapsed": true
   },
   "outputs": [],
   "source": [
    "#Now can write if statement to count key that exists in dict, ignore otherwise \n",
    "counts = dict()\n",
    "names = ['csev', 'cwen', 'csev', 'zqian', 'cwen']\n",
    "for name in names:\n",
    "    if name not in counts:\n",
    "        counts[name] = 1\n",
    "    else:\n",
    "        counts[name] = counts[name] + 1\n",
    "print(counts)"
   ]
  },
  {
   "cell_type": "markdown",
   "metadata": {},
   "source": [
    "The get() method for dictionaries checks to see if a key is already in the dictionary.=, and returns a default value if the is not there.  "
   ]
  },
  {
   "cell_type": "code",
   "execution_count": null,
   "metadata": {
    "collapsed": true
   },
   "outputs": [],
   "source": [
    "#This code...\n",
    "counts = dict()\n",
    "names = ['csev', 'cwen', 'csev', 'zqian', 'cwen']\n",
    "for name in names:\n",
    "    if name not in counts:\n",
    "        counts[name] = 1\n",
    "    else:\n",
    "        counts[name] = counts[name] + 1\n",
    "print(counts)\n"
   ]
  },
  {
   "cell_type": "code",
   "execution_count": null,
   "metadata": {
    "collapsed": true
   },
   "outputs": [],
   "source": [
    "#...can be replaced by this code.  The key thing is it doesn't traceback.\n",
    "counts = dict()\n",
    "names = ['csev', 'cwen', 'csev', 'zqian', 'cwen']\n",
    "for name in names:\n",
    "    counts[name] = counts.get(name, 0) + 1\n",
    "print(counts)"
   ]
  },
  {
   "cell_type": "markdown",
   "metadata": {},
   "source": [
    "Even though dictionaries are not stored in order, we can write a for lop that goes through all the entries in the dictionary.   It goes through all the keys in the dictionary and looks up the values."
   ]
  },
  {
   "cell_type": "code",
   "execution_count": 11,
   "metadata": {},
   "outputs": [
    {
     "name": "stdout",
     "output_type": "stream",
     "text": [
      "<class 'str'>\n",
      "chuck 1\n",
      "<class 'str'>\n",
      "fred 42\n",
      "<class 'str'>\n",
      "jan 100\n"
     ]
    }
   ],
   "source": [
    "counts = {'chuck' : 1, 'fred' : 42, 'jan' : 100}\n",
    "for key in counts:\n",
    "    print(key, counts[key])"
   ]
  },
  {
   "cell_type": "markdown",
   "metadata": {},
   "source": [
    "Methods to retrieve keys and values from dictionaries include:\n",
    "\n",
    "keys(): Retrieves keys\n",
    "values(): Retrieves vlaues\n",
    "items(): Retrieves pair"
   ]
  },
  {
   "cell_type": "code",
   "execution_count": 17,
   "metadata": {},
   "outputs": [
    {
     "name": "stdout",
     "output_type": "stream",
     "text": [
      "dict_keys(['chuck', 'fred', 'jan'])\n",
      "dict_values([1, 42, 100])\n",
      "dict_items([('chuck', 1), ('fred', 42), ('jan', 100)])\n"
     ]
    }
   ],
   "source": [
    "jjj = {'chuck' : 1, 'fred' : 42, 'jan' : 100}\n",
    "#print(list(jjj))\n",
    "print(jjj.keys())\n",
    "print(jjj.values())\n",
    "print(jjj.items())"
   ]
  },
  {
   "cell_type": "markdown",
   "metadata": {},
   "source": [
    "Bonus: Two iteration variables -- Python is the only language to allow looping through key-value pairs.\n",
    "\n",
    "Each iteration, the first variable i sthe key and the second value is the corresponding value for the key."
   ]
  },
  {
   "cell_type": "code",
   "execution_count": null,
   "metadata": {
    "collapsed": true
   },
   "outputs": [],
   "source": [
    "jjj = {'chuck' : 1, 'fred' : 42, 'jan' : 100}\n",
    "\n",
    "for aaa,bbb in jjj.items(): \n",
    "    print(aaa, bbb)"
   ]
  },
  {
   "cell_type": "markdown",
   "metadata": {},
   "source": [
    "## Tuples"
   ]
  },
  {
   "cell_type": "markdown",
   "metadata": {},
   "source": [
    "Tuples are a kind of sequence that functions like a list."
   ]
  },
  {
   "cell_type": "markdown",
   "metadata": {},
   "source": [
    "Tuples: Not mutable, like string\n",
    "Lists: Mutable."
   ]
  },
  {
   "cell_type": "code",
   "execution_count": null,
   "metadata": {
    "collapsed": true
   },
   "outputs": [],
   "source": [
    "#Lists are mutable\n",
    "x = [9, 8, 7]\n",
    "x[2] = 6\n",
    "print(x)\n",
    "\n",
    "#but strings are not\n",
    "y = 'ABC'\n",
    "y[2] = 'D'\n",
    "\n",
    "#and neither are tuples\n",
    "z = (5, 4, 2)\n",
    "z[2] = 0"
   ]
  },
  {
   "cell_type": "markdown",
   "metadata": {},
   "source": [
    "Part of efficiency of tuples is that they are not mutable.\n",
    "\n",
    "Lots of list methods can't be used with tubles."
   ]
  },
  {
   "cell_type": "code",
   "execution_count": 12,
   "metadata": {},
   "outputs": [
    {
     "data": {
      "text/plain": [
       "['__add__',\n",
       " '__class__',\n",
       " '__contains__',\n",
       " '__delattr__',\n",
       " '__dir__',\n",
       " '__doc__',\n",
       " '__eq__',\n",
       " '__format__',\n",
       " '__ge__',\n",
       " '__getattribute__',\n",
       " '__getitem__',\n",
       " '__getnewargs__',\n",
       " '__gt__',\n",
       " '__hash__',\n",
       " '__init__',\n",
       " '__init_subclass__',\n",
       " '__iter__',\n",
       " '__le__',\n",
       " '__len__',\n",
       " '__lt__',\n",
       " '__mul__',\n",
       " '__ne__',\n",
       " '__new__',\n",
       " '__reduce__',\n",
       " '__reduce_ex__',\n",
       " '__repr__',\n",
       " '__rmul__',\n",
       " '__setattr__',\n",
       " '__sizeof__',\n",
       " '__str__',\n",
       " '__subclasshook__',\n",
       " 'count',\n",
       " 'index']"
      ]
     },
     "execution_count": 12,
     "metadata": {},
     "output_type": "execute_result"
    }
   ],
   "source": [
    "#A list of list functions\n",
    "l = list()\n",
    "dir(l)\n",
    "\n",
    "#A list of tuple functions\n",
    "t = tuple()\n",
    "dir(t)"
   ]
  },
  {
   "cell_type": "markdown",
   "metadata": {},
   "source": [
    "Tuples are more efficient than lists becuse they are don't need to be changed.\n",
    "\n",
    "Cool things to do with tuples:"
   ]
  },
  {
   "cell_type": "markdown",
   "metadata": {},
   "source": [
    "1) Put a tuple on the right-hand side of an assignment statement."
   ]
  },
  {
   "cell_type": "code",
   "execution_count": null,
   "metadata": {
    "collapsed": true
   },
   "outputs": [],
   "source": [
    "(x, y) = (4, 'fred')\n",
    "print(y)"
   ]
  },
  {
   "cell_type": "markdown",
   "metadata": {},
   "source": [
    "We've actually played with tuples before.  \n",
    "\n",
    "The items() method in dictionaries returns a list of \"key, value\" tuples."
   ]
  },
  {
   "cell_type": "code",
   "execution_count": null,
   "metadata": {
    "collapsed": true
   },
   "outputs": [],
   "source": [
    "d = dict()\n",
    "d['csev'] = 2\n",
    "d['cwen'] = 4"
   ]
  },
  {
   "cell_type": "markdown",
   "metadata": {},
   "source": [
    "Tuples can be compared using operators.  If the first item is equal, Python goes on to the next element, and thereafter until it finds element that differ."
   ]
  },
  {
   "cell_type": "code",
   "execution_count": null,
   "metadata": {
    "collapsed": true
   },
   "outputs": [],
   "source": [
    "(0, 1, 2) < (5, 1, 2)"
   ]
  },
  {
   "cell_type": "markdown",
   "metadata": {},
   "source": [
    "We can take advantage of the ability to sort a list of tuples to get a sorted version of a dictionary."
   ]
  },
  {
   "cell_type": "markdown",
   "metadata": {},
   "source": [
    "First we sort the dictionary by the key using the items() method and the sorted() function."
   ]
  },
  {
   "cell_type": "code",
   "execution_count": 22,
   "metadata": {},
   "outputs": [
    {
     "name": "stdout",
     "output_type": "stream",
     "text": [
      "a 10\n",
      "b 1\n",
      "c 22\n"
     ]
    }
   ],
   "source": [
    "d = {'a':10, 'b':1, 'c':22}\n",
    "d.items()\n",
    "\n",
    "#Sorted() takes a sequence and returns a list\n",
    "sorted(d.items())\n",
    "\n",
    "#The sorted() function re-expressed as a for loop\n",
    "for k, v in sorted(d.items()):\n",
    "    print(k, v)"
   ]
  },
  {
   "cell_type": "markdown",
   "metadata": {},
   "source": [
    "If we could construct a list of tuples of the form (value, key), we could sort by value. We can do this with a for loop that creates a list of tuples."
   ]
  },
  {
   "cell_type": "code",
   "execution_count": null,
   "metadata": {
    "collapsed": true
   },
   "outputs": [],
   "source": [
    "c = {'a':10, 'b':1, 'c':22}\n",
    "tmp = list()\n",
    "for k, v in c.items():\n",
    "    \n",
    "    #Reverse the column order \n",
    "    tmp.append((v, k))\n",
    "\n",
    "print(tmp)\n",
    "\n",
    "#Can now sort values in reverse!\n",
    "tmp = sorted(tmp, reverse=True)\n",
    "print(tmp)"
   ]
  },
  {
   "cell_type": "markdown",
   "metadata": {},
   "source": [
    "Let's actually solve a problem -- we want the 10 most common words in a file."
   ]
  },
  {
   "cell_type": "markdown",
   "metadata": {},
   "source": [
    "Before working with files, check working directory.  Check all files in working directory as well."
   ]
  },
  {
   "cell_type": "code",
   "execution_count": 13,
   "metadata": {},
   "outputs": [
    {
     "name": "stdout",
     "output_type": "stream",
     "text": [
      "Path at terminal when executing this file\n",
      "C:\\Users\\CS\\Documents\\Jupyter_Notebooks\n",
      "\n",
      "List of all files in current path at terminal\n",
      ".ipynb_checkpoints\n",
      "2018 UMich_Programming for Everybody Specialization_01_Programming for Everybody.ipynb\n",
      "2018 UMich_Programming for Everybody Specialization_02_Python Data Structures.ipynb\n",
      "Coursera_Introduction to Data Science in Python_UMich 2018_Week 3.ipynb\n",
      "Coursera_Introduction to Data Science in Python_UMich 2018_Weeks 1- 2.ipynb\n",
      "romeotest.txt\n"
     ]
    }
   ],
   "source": [
    "import os\n",
    "cwd = os.getcwd()\n",
    "print(\"Path at terminal when executing this file\")\n",
    "print(cwd + \"\\n\")\n",
    "\n",
    "files = os.listdir()\n",
    "print(\"List of all files in current path at terminal:\")\n",
    "for file in files:\n",
    "    print(file)\n"
   ]
  },
  {
   "cell_type": "markdown",
   "metadata": {},
   "source": [
    "Now let's write some code.  Take a file with text, and return the 10 most common words of a passage from Romeo and Juliet.\n",
    "\n",
    "Try to understand every single line of this code."
   ]
  },
  {
   "cell_type": "code",
   "execution_count": null,
   "metadata": {
    "collapsed": true
   },
   "outputs": [],
   "source": [
    "fhand = open('romeotest.txt')\n",
    "counts = dict()\n",
    "for line in fhand:\n",
    "    words = line.split()\n",
    "    for word in words:\n",
    "        counts[word] = counts.get(word, 0) + 1\n",
    "\n",
    "lst = list()\n",
    "for key, val in counts.items():\n",
    "    newtup = (val, key)\n",
    "    lst.append(newtup)\n",
    "\n",
    "lst = sorted(lst, reverse = True)\n",
    "\n",
    "for val, key in lst[:10]:\n",
    "    print(key, val)"
   ]
  },
  {
   "cell_type": "markdown",
   "metadata": {},
   "source": [
    "Check it out:  You can do the bottom three parts of the above code in one line.\n",
    "\n",
    "Use a list comprehension."
   ]
  },
  {
   "cell_type": "code",
   "execution_count": 19,
   "metadata": {},
   "outputs": [
    {
     "name": "stdout",
     "output_type": "stream",
     "text": [
      "[(1, 'b'), (10, 'a'), (22, 'c')]\n"
     ]
    }
   ],
   "source": [
    "c = {'a':10, 'b':1, 'c':22}\n",
    "\n",
    "#For all, create me tuples that are (v, k) for k, v in the dictionary.\n",
    "print(sorted([(v, k) for k, v in c.items()]))  #ONE line"
   ]
  },
  {
   "cell_type": "markdown",
   "metadata": {},
   "source": [
    "A list comprehension creates a dynamic list.  In this case, we make a list of reversed tuples and then sort it."
   ]
  },
  {
   "cell_type": "markdown",
   "metadata": {},
   "source": []
  },
  {
   "cell_type": "markdown",
   "metadata": {
    "collapsed": true
   },
   "source": [
    "We'll do this over and over again."
   ]
  },
  {
   "cell_type": "markdown",
   "metadata": {
    "collapsed": true
   },
   "source": []
  }
 ],
 "metadata": {
  "kernelspec": {
   "display_name": "Python 3",
   "language": "python",
   "name": "python3"
  },
  "language_info": {
   "codemirror_mode": {
    "name": "ipython",
    "version": 3
   },
   "file_extension": ".py",
   "mimetype": "text/x-python",
   "name": "python",
   "nbconvert_exporter": "python",
   "pygments_lexer": "ipython3",
   "version": "3.6.2"
  }
 },
 "nbformat": 4,
 "nbformat_minor": 2
}
